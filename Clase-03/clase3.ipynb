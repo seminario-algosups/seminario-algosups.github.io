{
 "cells": [
  {
   "cell_type": "markdown",
   "metadata": {},
   "source": [
    "### Sugerencias de uso de la Notebook: \n",
    "-- Sugerimos 'Abrir en Colab' y realizar una copia del cuaderno antes de usarlo.\n",
    "\n",
    "[![Open In Colab](https://colab.research.google.com/assets/colab-badge.svg)](https://colab.research.google.com/github/chafa618/curso_anotacion_puan/blob/main/Clase3/clase3.ipynb)"
   ]
  },
  {
   "cell_type": "markdown",
   "metadata": {},
   "source": [
    "# Clase 3:\n",
    "\n",
    "## 📌 Aprendizaje supervisado vs. no supervisado\n",
    "\n",
    "Cuando hablamos de AS y ANS, nos referimos a diferentes enfoques de aprendizaje automático. \n",
    "\n"
   ]
  },
  {
   "cell_type": "markdown",
   "metadata": {},
   "source": [
    "- **Aprendizaje supervisado**: El modelo aprende a partir de datos etiquetados, donde cada entrada tiene una salida asociada.\n",
    "- **Aprendizaje no supervisado**: El modelo trabaja con datos no etiquetados, con el objetivo de descubrir patrones sin una salida específica.\n"
   ]
  },
  {
   "cell_type": "markdown",
   "metadata": {},
   "source": [
    "\n",
    "<div style=\"text-align: center;\">\n",
    "    <img src=\"img/supvsunsup.png\" alt=\"Clf vs Clustering\">\n",
    "</div>\n"
   ]
  },
  {
   "cell_type": "markdown",
   "metadata": {},
   "source": [
    "### 📍 Aprendizaje Supervisado:\n",
    "- Un algoritmo usa un conjunto de datos de muetra para entrenarse, hacer predicciones y ajustarse de forma iterativa para minimizar los errores. Estos datos están etiquetados con los valores de salida esperados, de forma tal que el modelo pueda dar una respuesta \"acertada\".\n",
    "- Hay un conocimiento a priori que el modelo trata de aprender. Este tipo de algoritmo se centra en aprender la relaciones entre los datos de entrada y de salida (el dato y su etiqueta). \n",
    "- Es decuado para tareas de clasificación y regresión, como la previsión meteorológica, los cambios de precios, el análisis de opinión y la detección de spam.\n",
    "\n",
    "\n",
    "### 📍 Aprendizaje No supervisado:\n",
    "- El algoritmo se entrena con un conjunto de datos no etiquetados, es decir, sin una salida esperada. El objetivo del Unsupervised Learning es encontrar patrones, estructuras y relaciones en los datos sin la necesidad de una orientación o guía específica.\n",
    "- No hay conocimiento a priori; el algoritmo recibe un conjunto de datos y busca patrones y similitudes por sí solo, sin que se le haya dicho de antemano qué características buscar e intenta agrupar los datos en función de similitudes y diferencias.\n",
    "- Se utiliza ampliamente en el análisis exploratorio de datos y tareas de agrupación, detección de anomalías y reducción de dimensionalidad. \n"
   ]
  },
  {
   "cell_type": "markdown",
   "metadata": {},
   "source": [
    "|    | **Supervisado**                        | **No Supervisado**                    |\n",
    "|--------------------|--------------------------------|--------------------------------|\n",
    "| **Input**         | Dato etiquetado              | Dato crudo                    |\n",
    "| **Output**        | Respuesta 'correcta' / etiqueta | Patrones                      |\n",
    "| **Objetivo**      | Aprender relaciones entre los datos de entrada y de salida | Descubrir relaciones entre los datos sin etiquetar |\n",
    "| **Tasks**         | Regresión, clasificación     | Exploración, agrupación       |\n",
    "| **Ejemplo**       | Detección de spam, previsión meteorológica | Detección de anomalías, segmentación de clientes |\n"
   ]
  },
  {
   "cell_type": "markdown",
   "metadata": {},
   "source": [
    "\n",
    "### 📝 Hagamos unos ejercicios:\n",
    "1. Tenés un conjunto de datos con información de diferentes casas, incluyendo la cantidad de habitaciones, metros cuadrados, ubicación y precio de venta. Querés construir un modelo que, dado un conjunto de características de una casa nueva, prediga su precio.\n",
    "\n",
    "2. Un negocio de comercio electrónico quiere agrupar a sus clientes en diferentes segmentos según su comportamiento de compra, sin una etiqueta predefinida. Se analizan datos como el número de compras realizadas, el monto gastado y la frecuencia de compra.\n",
    "\n",
    "3. Un banco quiere identificar transacciones sospechosas analizando patrones inusuales en el comportamiento de los clientes. No tiene ejemplos previos de fraude etiquetados, pero quiere detectar anomalías basadas en las transacciones habituales de cada cliente.\n",
    "\n",
    "4. Un sistema de correo electrónico tiene un conjunto de datos con correos etiquetados como \"spam\" o \"no spam\". Querés entrenar un modelo para clasificar automáticamente nuevos correos en una de estas dos categorías.\n"
   ]
  },
  {
   "cell_type": "markdown",
   "metadata": {},
   "source": [
    "## 📌 Tareas de Clasificación y Regresión\n",
    "\n",
    "La **clasificación** es un método de machine learning supervisado en el que el modelo intenta prever la etiqueta correcta de unos datos de entrada dados. En este caso, el modelo se entrena con un dataset de entrenamiento y, luego, se evalúa con los datos de prueba* con el objetivo de realizar predicciones sobre nuevos datos no vistos durante el entrenamiento. \n",
    "Hablamos de una tarea de **clasificación** cuando la variable objetivo es discreta. Por ejemplo, el analisis de sentimiento. \n",
    "\n",
    "Por otro lado, cuando la variable objetivo es continua estamos frente a un caso **regresión**. Un ejemplo puede ser la previsión del salario de una persona dados su nivel de estudios, su experiencia laboral, su ubicación geográfica y su antigüedad.\n",
    "\n",
    "<div style=\"text-align: center;\">\n",
    "    <img src=\"img/supervised_clf.avif\" alt=\"Clasificacion vs Regresion\">\n",
    "</div>\n",
    "\n"
   ]
  },
  {
   "cell_type": "markdown",
   "metadata": {},
   "source": [
    "Si pensamos en el **analisis de sentimientos**, el objetivo central consiste en predecir a que **clase** pertenece un texto dado, que no hemos visto durante la fase de entrenamiento. Siendo dichas clases \"Positivo\", \"Negativo\" y/o \"Neutro\". \n",
    "\n",
    "En cambio, si nos centramos en **predecir el precio del alquiler** de los dptos en CABA estamos hablando de un valor continuo en función de las variables de entrada. El objetivo principal de los problemas de regresión es estimar una función de mapeo en función de las variables de entrada y salida.\n",
    "\n",
    "[ACOMODAR!] #TODO: Incluir ejemplo del clima me parece más intuitivo\n",
    "\n"
   ]
  },
  {
   "cell_type": "markdown",
   "metadata": {},
   "source": [
    "<div style=\"text-align: center;\">\n",
    "    <img src=\"img/regvsclf.webp\" alt=\"Clasificacion vs Regresion\">\n",
    "</div>"
   ]
  },
  {
   "cell_type": "markdown",
   "metadata": {},
   "source": [
    "### ⚠️ Pero, pero pero... \n",
    "\n",
    "Sea cual fuere la tarea a la que nos enfrentemos, necesitaremos datos\n",
    "\n",
    "## 📌 Datos Estructurados vs. No Estructurados en Machine Learning\n",
    "\n",
    "En el ámbito del machine learning, es crucial entender la diferencia entre datos estructurados y no estructurados, ya que esto influye en cómo se procesan y utilizan para entrenar modelos.\n",
    "\n",
    "### 🔹 Datos Estructurados\n",
    "Los datos estructurados son aquellos que están organizados en un formato predefinido, como tablas en bases de datos relacionales. Estos datos tienen un esquema fijo con filas y columnas, donde cada columna representa una característica específica y cada fila una instancia de datos. Ejemplos comunes incluyen hojas de cálculo y bases de datos SQL.\n",
    "\n",
    "*Ejemplo*: Un dataset de ventas con columnas como `Fecha`, `Producto`, `Cantidad`, y `Precio`.\n",
    "\n",
    "### 🔹 Datos No Estructurados\n",
    "Los datos no estructurados no tienen un formato predefinido y no se ajustan fácilmente a un modelo tabular. Estos datos pueden incluir texto, imágenes, audio, video, y otros tipos de contenido multimedia. Debido a su naturaleza, requieren técnicas especiales para ser procesados y analizados.\n",
    "\n",
    "*Ejemplo*: Correos electrónicos, publicaciones en redes sociales, imágenes y videos.\n",
    "\n",
    "La anotación de datos permite que los datos no estructurados se conviertan en datos estructurados, facilitando su uso en modelos de machine learning y mejorando la precisión y efectividad de estos modelos."
   ]
  },
  {
   "cell_type": "markdown",
   "metadata": {},
   "source": [
    "\n",
    "## 📌 Anotación\n",
    "- La anotación de contenidos constituye un paso esencial para convertir datos crudos en recursos utilizables o que un algoritmo puede cosumir. \n",
    "- Consiste en etiquetar y organizar los datos. \n",
    "- La tarea de anotación puede ser realizada manualmente por anotadores humanos o automáticamente mediante técnicas algorítmicas (con resultados más o menos convincentes). Aunque, a menudo es necesaria la supervisión humana para comprobar y corregir una anotación de datos con el fin de garantizar su fiabilidad.\n",
    "- Este proceso requiere tanto de precisión como de una comprension profunda del contexto de los datos, ya que la calidad de las anotaciones determina en gran medida la capacidadd de los algoritmos de generalizar a partir de los datos. \n",
    "- Un **dataset** es, justamente, un conjunto de datos (que puede o no estar etiquetado) recopilado con un fin específico.\n",
    "- Las anotaciones de datos se usan tanto para crear datasets de entrenamiento, validación y de prueba. \n",
    "- Estos conjuntos de datos se utilizan para medir el rendimiento del modelo (validación y prueba)"
   ]
  },
  {
   "cell_type": "markdown",
   "metadata": {},
   "source": [
    "### ✏️ Anotación de Imágenes\n",
    "\n",
    "<div style=\"text-align: center;\">\n",
    "    <img src=\"img/labelimgs.png\" alt=\"Anotación de Imágenes\">\n",
    "</div>\n",
    "\n",
    "\n",
    "### ✏️ Anotación de Textos\n",
    "\n",
    "<div style=\"text-align: center;\">\n",
    "    <img src=\"img/typestextannot.webp\" alt=\"Clasificacion vs Regresion\">\n",
    "</div>\n",
    "\n",
    "### \n",
    "- Anotación de entidades y dependencias\n",
    "<div style=\"text-align: center;\">\n",
    "    <img src=\"img/stanfordann.png\" alt=\"Stanford Annotations\">\n",
    "</div>\n",
    "\n",
    "\n",
    "Anotaciíon Connlu\n",
    "<div style=\"text-align: center;\">\n",
    "    <img src=\"img/conllann.ppm\" alt=\"Connl\">\n",
    "</div>\n"
   ]
  },
  {
   "cell_type": "markdown",
   "metadata": {},
   "source": []
  },
  {
   "cell_type": "code",
   "execution_count": null,
   "metadata": {},
   "outputs": [
    {
     "data": {
      "text/plain": [
       "dict_keys(['data', 'target', 'frame', 'target_names', 'DESCR', 'feature_names', 'filename', 'data_module'])"
      ]
     },
     "execution_count": 13,
     "metadata": {},
     "output_type": "execute_result"
    }
   ],
   "source": []
  },
  {
   "cell_type": "code",
   "execution_count": null,
   "metadata": {},
   "outputs": [
    {
     "data": {
      "text/plain": [
       "'.'"
      ]
     },
     "execution_count": 19,
     "metadata": {},
     "output_type": "execute_result"
    }
   ],
   "source": [
    "\n"
   ]
  },
  {
   "cell_type": "markdown",
   "metadata": {},
   "source": [
    "## 📌 Métricas para evaluar modelos de clasificación\n",
    "\n",
    "- **Accuracy** (certeza): (Predicciones correctas / Total de predicciones).\n",
    "- **Precisión**: (Verdaderos Positivos / (Verdaderos Positivos + Falsos Positivos)).\n",
    "- **Recall** (cobertura): (Verdaderos Positivos / (Verdaderos Positivos + Falsos Negativos)).\n"
   ]
  },
  {
   "cell_type": "markdown",
   "metadata": {},
   "source": [
    "<div style=\"text-align: center;\">\n",
    "    <img src=\"img/apr.webp\" alt=\"Precision, Recall, Accuracy\">\n",
    "</div>"
   ]
  },
  {
   "cell_type": "markdown",
   "metadata": {},
   "source": [
    "### Recursos:\n",
    "- [Documentación SkLearn](https://scikit-learn.org/stable/auto_examples/model_selection/plot_precision_recall.html)"
   ]
  },
  {
   "cell_type": "markdown",
   "metadata": {},
   "source": [
    "## 📌 Precisión vs. Cobertura en Aprendizaje Automático\n",
    "Cuando evaluamos un modelo de clasificación, es importante entender dos métricas clave: precisión (*precision*) y cobertura (*recall*). \n",
    "Ambas nos ayudan a medir qué tan bien está funcionando nuestro modelo, pero desde perspectivas diferentes.\n",
    "\n",
    "#### 🔹 Precisión (Precision)\n",
    "La precisión se refiere al porcentaje de predicciones positivas que realmente son correctas. En otras palabras, mide cuántos de los resultados identificados como positivos por el modelo son realmente relevantes.\n",
    "\n",
    "📍 *Ejemplo*: Si un detector de spam identifica 100 correos como spam, pero solo 80 realmente lo son, la precisión sería del 80%.\n",
    "\n",
    "### 🔹 Cobertura (Recall)\n",
    "  La cobertura mide el porcentaje de los casos realmente positivos que el modelo detectó correctamente. Es decir, nos dice qué tan bien el modelo encuentra todos los casos relevantes dentro del total existente.\n",
    "\n",
    "📍 *Ejemplo*: Si en tu bandeja de entrada hay 120 correos de spam y el modelo detectó solo 80, la cobertura sería del 80/120 = 66.6%.\n",
    "\n",
    "### 📊 Diferencia clave entre precisión y cobertura\n",
    "- Un modelo con **alta precisión pero baja cobertura** es muy estricto: solo etiqueta como positivos los casos en los que está muy seguro, pero puede dejar muchos sin detectar.\n",
    "- Un modelo con **alta cobertura pero baja precisión** etiqueta muchos casos como positivos, incluyendo algunos que no lo son (*falsos positivos*).\n",
    "- El *equilibrio entre precisión y cobertura* depende de la aplicación. En un detector de fraudes, preferimos alta precisión (evitar falsos positivos), pero en un diagnóstico médico, priorizamos alta cobertura (detectar la mayor cantidad de casos)."
   ]
  },
  {
   "cell_type": "markdown",
   "metadata": {},
   "source": [
    "### 📌 F1-score: Equilibrando Precisión y Cobertura\n",
    "En la mayoría de los problemas de clasificación, podemos dar mayor prioridad a precisión (precision) o a cobertura (recall), dependiendo del contexto. \n",
    "\n",
    "Sin embargo, en muchos casos necesitamos una métrica que combine ambas y nos dé una visión equilibrada del rendimiento del modelo.\n",
    "\n",
    "Esa métrica es el F1-score, que es la media armónica entre precisión y cobertura.\n",
    "\n",
    "#### 🔹 ¿Por qué usar F1-score?\n",
    "Si sólo usamos precisión, podríamos obtener un modelo que solo predice lo que está muy seguro, dejando fuera muchos casos positivos reales.\n",
    "Si, en cambio, nos concentramos solo en la recall o cobertura, podríamos tener un modelo que clasifica demasiados ejemplos como positivos, generando muchos falsos positivos.\n",
    "\n",
    "El F1-score nos permite encontrar un balance entre ambas métricas.\n",
    "\n",
    "#### 📊 Cálculo del F1-score\n",
    "Se define con la siguiente fórmula:\n",
    "\n",
    "<div style=\"text-align: center;background-color: white;\">\n",
    "    <img src=\"img/f1.webp\" alt=\"Precision, Recall, Accuracy\">\n",
    "</div>\n",
    " \n",
    "Esta es la media armónica entre precisión y cobertura.\n",
    "\n",
    "🔹 **Para tener en cuenta: El F1-score solo será alto si ambas métricas son altas. Si una es muy baja, el F1-score también será bajo.**\n",
    "\n",
    "\n",
    "\n",
    "Por suerte para nosotros, o no, este tipo de métricas ya están implementadas y dicha implementacion no será vista en este curso. Por esto mismo, utilizaremos algunas de las herramientas provistas por librerías existentens. "
   ]
  },
  {
   "cell_type": "code",
   "execution_count": null,
   "metadata": {},
   "outputs": [
    {
     "name": "stdout",
     "output_type": "stream",
     "text": [
      "Accuracy: 0.8333333333333334\n",
      "Precisión: 1.0\n",
      "Cobertura: 0.75\n",
      "F1-score:  0.8571428571428571\n"
     ]
    }
   ],
   "source": [
    "from sklearn.metrics import accuracy_score, precision_score, recall_score, f1_score\n",
    "\n",
    "resultado_esperado = [\"SPAM\", \"NO_SPAM\", \"SPAM\", \"SPAM\", \"NO_SPAM\", \"SPAM\"]\n",
    "resultado_obtenido = [\"SPAM\", \"NO_SPAM\", \"SPAM\", \"NO_SPAM\", \"NO_SPAM\", \"SPAM\"]\n",
    "\n",
    "y_true = [1, 0, 1, 1, 0, 1] \n",
    "y_pred = [1, 0, 1, 0, 0, 1]\n",
    "\n",
    "print(\"Accuracy:\", accuracy_score(y_true, y_pred))\n",
    "print(\"Precisión:\", precision_score(y_true, y_pred))\n",
    "print(\"Cobertura:\", recall_score(y_true, y_pred))\n",
    "print(\"F1-score: \", f1_score(y_true, y_pred))"
   ]
  },
  {
   "cell_type": "code",
   "execution_count": null,
   "metadata": {},
   "outputs": [],
   "source": []
  }
 ],
 "metadata": {
  "kernelspec": {
   "display_name": ".venv",
   "language": "python",
   "name": "python3"
  },
  "language_info": {
   "codemirror_mode": {
    "name": "ipython",
    "version": 3
   },
   "file_extension": ".py",
   "mimetype": "text/x-python",
   "name": "python",
   "nbconvert_exporter": "python",
   "pygments_lexer": "ipython3",
   "version": "3.12.0"
  }
 },
 "nbformat": 4,
 "nbformat_minor": 2
}
