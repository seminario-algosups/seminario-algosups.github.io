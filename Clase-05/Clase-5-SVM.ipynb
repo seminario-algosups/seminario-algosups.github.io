{
 "cells": [
  {
   "cell_type": "code",
   "execution_count": 1,
   "id": "15065cbc",
   "metadata": {},
   "outputs": [],
   "source": [
    "# -*- coding: utf-8 -*-\n",
    "\n",
    "import numpy as np  # Para operaciones numéricas (aunque sklearn lo usa más internamente)\n",
    "from sklearn.datasets import fetch_20newsgroups # Para obtener un dataset de ejemplo clásico\n",
    "from sklearn.model_selection import train_test_split # Para dividir nuestros datos\n",
    "from sklearn.feature_extraction.text import TfidfVectorizer # Para convertir texto en vectores numéricos (TF-IDF)\n",
    "from sklearn.svm import LinearSVC # El modelo SVM (versión lineal, buena para texto)\n",
    "from sklearn.metrics import accuracy_score, confusion_matrix, classification_report # Para evaluar qué tan bien lo hicimos\n",
    "import matplotlib.pyplot as plt # Para graficar\n",
    "import seaborn as sns # Para hacer gráficos más bonitos (la matriz de confusión)\n"
   ]
  },
  {
   "cell_type": "code",
   "execution_count": 2,
   "id": "70e78cf5",
   "metadata": {},
   "outputs": [
    {
     "name": "stdout",
     "output_type": "stream",
     "text": [
      "Cargando dataset 20 Newsgroups para las categorías: ['rec.sport.baseball', 'sci.space']\n",
      "¡Listo! Se cargaron 1981 documentos.\n",
      "\n",
      "Categorías disponibles (etiquetas numéricas): [0 0 0 ... 1 0 1]\n",
      "Nombres de las categorías: ['rec.sport.baseball', 'sci.space']\n",
      "\n",
      "--- Ejemplo de Documento ---\n",
      "Texto: \n",
      "Do you really have *that* much information on him?  Really?\n",
      "\n",
      "\n",
      "I don't know.  You tell me.  What percentage of players reach or \n",
      "exceed their MLE's *in their rookie season*?  We're talking about\n",
      "1993, you know.\n",
      "\n",
      "\n",
      "If that were your purpose, maybe.  Offerman spent 1992 getting \n",
      "acclimated, if you will.  The Dodgers as a team paid a big price\n",
      "that season.  Perhaps they will reap the benefits down the road.\n",
      "Do you really think they would have done what they did if they\n",
      "were competing for a pennant?\n",
      " ...\n",
      "Categoría (numérica): 0\n",
      "Categoría (nombre): rec.sport.baseball\n"
     ]
    }
   ],
   "source": [
    "\n",
    "# ## 3. Cargar los Datos de Texto\n",
    "#\n",
    "# Usaremos el dataset \"20 Newsgroups\". Es una colección de ~20,000 mensajes\n",
    "# de grupos de noticias, clasificados en 20 temas diferentes.\n",
    "#\n",
    "# Para simplificar, elegiremos solo dos temas que sean bastante distintos,\n",
    "# por ejemplo, béisbol (`rec.sport.baseball`) y espacio (`sci.space`).\n",
    "# Nuestro objetivo será entrenar un modelo que pueda distinguir entre\n",
    "# un texto que habla de béisbol y uno que habla de ciencia espacial.\n",
    "\n",
    "# Define las categorías que nos interesan\n",
    "categories = ['rec.sport.baseball', 'sci.space']\n",
    "\n",
    "# Carga los datos SÓLO de esas categorías\n",
    "# 'subset='all'' carga tanto entrenamiento como prueba, los dividiremos nosotros mismos después.\n",
    "# 'shuffle=True' mezcla los datos.\n",
    "# 'random_state' asegura que la mezcla sea la misma cada vez que ejecutamos (reproducibilidad).\n",
    "print(\"Cargando dataset 20 Newsgroups para las categorías:\", categories)\n",
    "newsgroups_data = fetch_20newsgroups(subset='all', categories=categories,\n",
    "                                     shuffle=True, random_state=42,\n",
    "                                     remove=('headers', 'footers', 'quotes')) # Quitamos partes que pueden dar pistas \"fáciles\"\n",
    "\n",
    "print(f\"¡Listo! Se cargaron {len(newsgroups_data.data)} documentos.\")\n",
    "\n",
    "# Exploremos un poco los datos\n",
    "print(\"\\nCategorías disponibles (etiquetas numéricas):\", newsgroups_data.target)\n",
    "print(\"Nombres de las categorías:\", newsgroups_data.target_names)\n",
    "\n",
    "# Veamos un ejemplo de texto y su categoría\n",
    "print(\"\\n--- Ejemplo de Documento ---\")\n",
    "print(\"Texto:\", newsgroups_data.data[0][:500], \"...\") # Mostramos los primeros 500 caracteres\n",
    "print(\"Categoría (numérica):\", newsgroups_data.target[0])\n",
    "print(\"Categoría (nombre):\", newsgroups_data.target_names[newsgroups_data.target[0]])\n",
    "\n"
   ]
  },
  {
   "cell_type": "code",
   "execution_count": 3,
   "id": "0e4d3fbb",
   "metadata": {},
   "outputs": [
    {
     "name": "stdout",
     "output_type": "stream",
     "text": [
      "Tamaño del conjunto de Entrenamiento: 1485 documentos\n",
      "Tamaño del conjunto de Prueba: 496 documentos\n"
     ]
    }
   ],
   "source": [
    "\n",
    "# ## 4. Dividir los Datos: Entrenamiento y Prueba\n",
    "#\n",
    "# ¡Fundamental! No podemos evaluar el modelo con los mismos datos que usó para\n",
    "# aprender, sería como hacer un examen con las respuestas vistas.\n",
    "#\n",
    "# Dividimos nuestros datos en dos conjuntos:\n",
    "# *   **Conjunto de Entrenamiento (Training Set):** Lo usamos para que el modelo SVM \"aprenda\" los patrones (aprox. 75% de los datos).\n",
    "# *   **Conjunto de Prueba (Test Set):** Lo guardamos y lo usamos AL FINAL para evaluar qué tan bien generaliza el modelo a datos nuevos (aprox. 25% de los datos).\n",
    "\n",
    "# X son los textos (datos), y son las etiquetas (categorías)\n",
    "X = newsgroups_data.data\n",
    "y = newsgroups_data.target\n",
    "\n",
    "# Dividimos\n",
    "# test_size=0.25 significa que el 25% de los datos será para prueba.\n",
    "# random_state asegura que la división sea la misma cada vez.\n",
    "X_train, X_test, y_train, y_test = train_test_split(X, y, test_size=0.25, random_state=42)\n",
    "\n",
    "print(f\"Tamaño del conjunto de Entrenamiento: {len(X_train)} documentos\")\n",
    "print(f\"Tamaño del conjunto de Prueba: {len(X_test)} documentos\")\n",
    "\n"
   ]
  },
  {
   "cell_type": "code",
   "execution_count": 4,
   "id": "3d440ac0",
   "metadata": {},
   "outputs": [
    {
     "name": "stdout",
     "output_type": "stream",
     "text": [
      "\n",
      "Creando el vectorizador TF-IDF...\n",
      "Ajustando el vectorizador a los datos de entrenamiento...\n",
      "Transformando los datos de prueba...\n",
      "\n",
      "¡Vectorización completa!\n",
      "Forma de la matriz TF-IDF de entrenamiento (documentos, características/palabras): (1485, 5000)\n",
      "Forma de la matriz TF-IDF de prueba: (496, 5000)\n"
     ]
    }
   ],
   "source": [
    "# ## 5. Vectorización: Convertir Texto en Números (TF-IDF)\n",
    "#\n",
    "# Las SVM (y la mayoría de modelos de ML) no entienden palabras, ¡entienden números!\n",
    "# Necesitamos convertir cada texto en un vector numérico. Usaremos **TF-IDF**.\n",
    "#\n",
    "# **Intuición de TF-IDF:**\n",
    "# *   **TF (Term Frequency):** ¿Qué tan seguido aparece una palabra en *un* documento? (Más veces = más importante *para ese* doc).\n",
    "# *   **IDF (Inverse Document Frequency):** ¿En cuántos documentos aparece una palabra? (Si aparece en *muchos* docs, como \"el\" o \"la\", es menos útil para *distinguir* entre docs -> menos peso).\n",
    "# *   **TF-IDF:** Combina ambos. Da más peso a palabras que son frecuentes en un documento específico pero raras en el resto de la colección. ¡Son palabras discriminativas!\n",
    "#\n",
    "# **Proceso:**\n",
    "# 1.  **Ajustar (Fit):** El `TfidfVectorizer` aprende el vocabulario (todas las palabras únicas) y calcula los pesos IDF **usando SOLO el conjunto de entrenamiento**.\n",
    "# 2.  **Transformar (Transform):** Convierte los textos (tanto de entrenamiento como de prueba) en una matriz numérica basada en el vocabulario y los pesos aprendidos.\n",
    "\n",
    "print(\"\\nCreando el vectorizador TF-IDF...\")\n",
    "# Podemos añadir parámetros como stop_words='english' para quitar palabras comunes\n",
    "# o max_features=5000 para limitar el tamaño del vocabulario\n",
    "vectorizer = TfidfVectorizer(stop_words='english', max_features=5000)\n",
    "\n",
    "# 1. Aprende vocabulario y pesos IDF del CONJUNTO DE ENTRENAMIENTO\n",
    "print(\"Ajustando el vectorizador a los datos de entrenamiento...\")\n",
    "X_train_tfidf = vectorizer.fit_transform(X_train)\n",
    "\n",
    "# 2. Transforma el CONJUNTO DE PRUEBA usando el mismo vectorizador ya ajustado\n",
    "print(\"Transformando los datos de prueba...\")\n",
    "X_test_tfidf = vectorizer.transform(X_test)\n",
    "\n",
    "print(\"\\n¡Vectorización completa!\")\n",
    "print(\"Forma de la matriz TF-IDF de entrenamiento (documentos, características/palabras):\", X_train_tfidf.shape)\n",
    "print(\"Forma de la matriz TF-IDF de prueba:\", X_test_tfidf.shape)\n",
    "# Nota: El número de características (columnas) es el tamaño del vocabulario aprendido.\n"
   ]
  },
  {
   "cell_type": "markdown",
   "id": "4db15163",
   "metadata": {},
   "source": [
    "## 6. Entrenar el Modelo SVM\n",
    "\n",
    "\n",
    "Ahora viene la parte central. Vamos a crear un clasificador SVM y a \"entrenarlo\".\n",
    "Usaremos `LinearSVC`, una implementación de SVM eficiente para casos donde\n",
    "las clases se pueden separar razonablemente bien con una \"línea\" (o hiperplano\n",
    "en muchas dimensiones), lo cual suele funcionar bien para texto.\n",
    "\n",
    "\n",
    "**¿Qué hace `.fit()`?**\n",
    "\n",
    "El modelo analiza los vectores TF-IDF (`X_train_tfidf`) y sus etiquetas\n",
    "correspondientes (`y_train`) para encontrar el \"mejor hiperplano\" que separe\n",
    "los puntos de la clase 0 (béisbol) de los puntos de la clase 1 (espacio),\n",
    "maximizando el \"margen\" entre ellos."
   ]
  },
  {
   "cell_type": "code",
   "execution_count": null,
   "id": "36ab0dfb",
   "metadata": {},
   "outputs": [
    {
     "name": "stdout",
     "output_type": "stream",
     "text": [
      "\n",
      "Entrenando el modelo LinearSVC...\n",
      "¡Modelo entrenado!\n"
     ]
    }
   ],
   "source": [
    "\n",
    "\n",
    "\n",
    "print(\"\\nEntrenando el modelo LinearSVC...\")\n",
    "\n",
    "# Creamos una instancia del clasificador\n",
    "# C es un parámetro de regularización, controla el balance entre margen y errores.\n",
    "# Un C más alto intenta clasificar todo correctamente (puede sobreajustar).\n",
    "# Un C más bajo permite más errores a cambio de un margen más grande (puede generalizar mejor).\n",
    "# Dejamos el valor por defecto por ahora.\n",
    "model = LinearSVC(C=1.0, random_state=42, dual=True, max_iter=2000) # dual=True recomendado cuando n_samples > n_features, ajustado max_iter\n",
    "\n",
    "# Entrenamos el modelo con los datos de entrenamiento vectorizados y sus etiquetas\n",
    "model.fit(X_train_tfidf, y_train)\n",
    "\n",
    "print(\"¡Modelo entrenado!\")\n"
   ]
  },
  {
   "cell_type": "markdown",
   "id": "9a4f7e2f",
   "metadata": {},
   "source": [
    "## 7. Realizar Predicciones en el Conjunto de Prueba\n",
    "El modelo ya aprendió. Ahora, vamos a usarlo para predecir la categoría\n",
    "de los textos del conjunto de prueba (`X_test_tfidf`), que el modelo\n",
    "¡nunca ha visto antes!\n"
   ]
  },
  {
   "cell_type": "code",
   "execution_count": null,
   "id": "f8a7a419",
   "metadata": {},
   "outputs": [
    {
     "name": "stdout",
     "output_type": "stream",
     "text": [
      "\n",
      "Realizando predicciones sobre el conjunto de prueba...\n",
      "\n",
      "Primeras 10 predicciones vs etiquetas reales:\n",
      "Predicciones: [0 0 0 0 0 1 0 1 0 1]\n",
      "Reales:       [0 0 0 0 0 1 0 1 1 1]\n"
     ]
    }
   ],
   "source": [
    "\n",
    "\n",
    "print(\"\\nRealizando predicciones sobre el conjunto de prueba...\")\n",
    "y_pred = model.predict(X_test_tfidf)\n",
    "\n",
    "# Veamos algunas predicciones comparadas con las etiquetas reales\n",
    "print(\"\\nPrimeras 10 predicciones vs etiquetas reales:\")\n",
    "print(f\"Predicciones: {y_pred[:10]}\")\n",
    "print(f\"Reales:       {y_test[:10]}\")\n",
    "# (Recordemos: 0 = baseball, 1 = space)\n"
   ]
  },
  {
   "cell_type": "markdown",
   "id": "c779e71e",
   "metadata": {},
   "source": [
    "\n",
    "## 8. Evaluar el Rendimiento del Modelo\n",
    "¿Qué tan buenas fueron las predicciones? Necesitamos métricas para evaluarlo objetivamente.\n",
    "*   **Accuracy (Exactitud):** Porcentaje total de predicciones correctas. Simple, pero puede ser engañoso si una clase es mucho más frecuente que otra (no es nuestro caso aquí, ya que elegimos 2 clases).\n",
    "*   **Matriz de Confusión:** Una tabla que nos dice:\n",
    "    *   Cuántos de béisbol se clasificaron bien como béisbol (Verdaderos Negativos - TN).\n",
    "    *   Cuántos de béisbol se clasificaron mal como espacio (Falsos Positivos - FP).\n",
    "    *   Cuántos de espacio se clasificaron mal como béisbol (Falsos Negativos - FN).\n",
    "    *   Cuántos de espacio se clasificaron bien como espacio (Verdaderos Positivos - TP).\n",
    "    (Asumiendo béisbol=0 (negativo), espacio=1 (positivo)).\n",
    "*   **Precisión (Precision):** De todos los que *dijo* que eran \"espacio\", ¿cuántos realmente lo eran? \n",
    "\n",
    "`TP / (TP + FP)`. \n",
    "\n",
    "Importante cuando el coste de un Falso Positivo es alto.\n",
    "\n",
    "*   **Recall (Sensibilidad):** De todos los que *realmente* eran \"espacio\", ¿cuántos encontró? \n",
    "\n",
    "`TP / (TP + FN)`. \n",
    "\n",
    "Importante cuando el coste de un Falso Negativo es alto.\n",
    "\n",
    "\n",
    "*   **F1-Score:** La media armónica de Precisión y Recall. Un buen balance entre ambas."
   ]
  },
  {
   "cell_type": "code",
   "execution_count": null,
   "id": "0b36a828",
   "metadata": {},
   "outputs": [
    {
     "name": "stdout",
     "output_type": "stream",
     "text": [
      "\n",
      "--- Evaluación del Modelo ---\n",
      "Accuracy (Exactitud): 0.9274\n",
      "\n",
      "Matriz de Confusión:\n"
     ]
    },
    {
     "data": {
      "image/png": "[encoded data removed]",
      "text/plain": [
       "<Figure size 600x400 with 2 Axes>"
      ]
     },
     "metadata": {},
     "output_type": "display_data"
    },
    {
     "name": "stdout",
     "output_type": "stream",
     "text": [
      "\n",
      "Reporte de Clasificación:\n",
      "                    precision    recall  f1-score   support\n",
      "\n",
      "rec.sport.baseball       0.89      0.97      0.93       232\n",
      "         sci.space       0.97      0.89      0.93       264\n",
      "\n",
      "          accuracy                           0.93       496\n",
      "         macro avg       0.93      0.93      0.93       496\n",
      "      weighted avg       0.93      0.93      0.93       496\n",
      "\n"
     ]
    }
   ],
   "source": [
    "\n",
    "\n",
    "print(\"\\n--- Evaluación del Modelo ---\")\n",
    "\n",
    "# 1. Accuracy\n",
    "accuracy = accuracy_score(y_test, y_pred)\n",
    "print(f\"Accuracy (Exactitud): {accuracy:.4f}\") # Formateado a 4 decimales\n",
    "\n",
    "# 2. Matriz de Confusión\n",
    "cm = confusion_matrix(y_test, y_pred)\n",
    "print(\"\\nMatriz de Confusión:\")\n",
    "# Usamos seaborn para una visualización más clara\n",
    "plt.figure(figsize=(6, 4))\n",
    "sns.heatmap(cm, annot=True, fmt='d', cmap='Blues',\n",
    "            xticklabels=newsgroups_data.target_names,\n",
    "            yticklabels=newsgroups_data.target_names)\n",
    "plt.xlabel('Predicción del Modelo')\n",
    "plt.ylabel('Etiqueta Real')\n",
    "plt.title('Matriz de Confusión')\n",
    "plt.show()\n",
    "\n",
    "# 3. Reporte de Clasificación (Precisión, Recall, F1-Score)\n",
    "print(\"\\nReporte de Clasificación:\")\n",
    "print(classification_report(y_test, y_pred, target_names=newsgroups_data.target_names))"
   ]
  },
  {
   "cell_type": "code",
   "execution_count": null,
   "id": "ccb1376f",
   "metadata": {},
   "outputs": [],
   "source": []
  },
  {
   "cell_type": "code",
   "execution_count": null,
   "id": "cd69606a",
   "metadata": {},
   "outputs": [],
   "source": []
  },
  {
   "cell_type": "code",
   "execution_count": null,
   "id": "f968f0c9",
   "metadata": {},
   "outputs": [],
   "source": [
    "\n",
    "# ## 9. Discusión y Próximos Pasos\n",
    "#\n",
    "# **Interpretación:**\n",
    "# *   La *accuracy* nos da una idea general del rendimiento.\n",
    "# *   La *matriz de confusión* nos muestra exactamente dónde se equivoca el modelo. ¿Confunde más \"béisbol\" con \"espacio\" o viceversa?\n",
    "# *   El *reporte de clasificación* detalla la Precisión, Recall y F1 para cada clase. Esto es útil para entender si el modelo funciona igual de bien para ambas categorías.\n",
    "#\n",
    "# **¿Qué podríamos hacer ahora? (Ideas para lingüistas)**\n",
    "# *   **Analizar Errores:** Mirar algunos de los textos que el modelo clasificó mal. ¿Por qué se confundió? ¿Usan lenguaje ambiguo? ¿Hay jerga específica?\n",
    "# *   **Probar con Otros Datos:** Aplicar esta misma técnica a *tus propios* datos de texto (¡solo necesitas textos y sus etiquetas!). Podría ser clasificación de género textual, análisis de sentimiento, detección de autoría...\n",
    "# *   **Mejorar el Modelo:**\n",
    "#     *   **Preprocesamiento:** Probar lemmatización o stemming, usar una lista de stopwords más específica para el dominio.\n",
    "#     *   **Vectorización:** Incluir bigramas o trigramas (`ngram_range=(1, 2)` en `TfidfVectorizer`) para capturar frases cortas. Ajustar `max_features`.\n",
    "#     *   **Modelo SVM:** Probar diferentes valores del parámetro `C` en `LinearSVC`. Incluso probar otros \"kernels\" de SVM (como `SVC(kernel='rbf')`), aunque `LinearSVC` suele ser un buen punto de partida para texto.\n",
    "#     *   **Comparar:** Comparar SVM con otros algoritmos como Naive Bayes (`MultinomialNB`) o Regresión Logística (`LogisticRegression`).\n",
    "#\n",
    "# **Fortalezas de SVM para Texto:**\n",
    "# *   Funciona bien con muchas \"características\" (muchas palabras en el vocabulario TF-IDF).\n",
    "# *   Es efectivo en espacios de alta dimensionalidad.\n",
    "# *   Es robusto cuando hay una separación clara entre clases (incluso si es compleja).\n",
    "#\n",
    "# **¡Felicidades!** Has entrenado y evaluado tu primer clasificador de texto con SVM. Este es un punto de partida poderoso para muchas tareas de análisis de texto computacional relevantes para la lingüística.\n",
    "\n",
    "# Fin del Notebook"
   ]
  }
 ],
 "metadata": {
  "kernelspec": {
   "display_name": ".venv",
   "language": "python",
   "name": "python3"
  },
  "language_info": {
   "codemirror_mode": {
    "name": "ipython",
    "version": 3
   },
   "file_extension": ".py",
   "mimetype": "text/x-python",
   "name": "python",
   "nbconvert_exporter": "python",
   "pygments_lexer": "ipython3",
   "version": "3.12.9"
  }
 },
 "nbformat": 4,
 "nbformat_minor": 5
}
