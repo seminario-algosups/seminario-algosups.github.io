{
 "cells": [
  {
   "cell_type": "markdown",
   "id": "72732539",
   "metadata": {},
   "source": [
    "[![Open In Colab](https://colab.research.google.com/assets/colab-badge.svg)](https://colab.research.google.com/github/chafa618/curso_anotacion_puan/blob/main/Clase2/clase-2-mas_python_datasets.ipynb)\n",
    "\n",
    "### Sugerencias de uso de la Notebook: \n",
    "-- Sugerimos 'Abrir en Colab' y realizar una copia del cuaderno antes de usarlo.\n",
    "\n",
    "\n",
    "\n"
   ]
  },
  {
   "cell_type": "markdown",
   "id": "dc164566",
   "metadata": {},
   "source": [
    "# 📘 Introducción a Python - Parte 2\n",
    "\n",
    "\n",
    "\n",
    "Esta notebook cubre el uso de Python en Google Colab, que inclye desde el concepto de módulos, librerías y manejo de archivos hasta la exploración de recursos esenciales como Kaggle HuggingFace 🤗 y GitHub (Desde el entorno de Google Colab)\n"
   ]
  },
  {
   "cell_type": "markdown",
   "id": "5ed91281",
   "metadata": {},
   "source": [
    "## 📌 **Uso de Librerías**\n",
    "\n",
    "Las librerías de Python son conjuntos de funciones que permiten realizar distintas funciones, ahorrando tiempo y esfuerzo al programador. \n",
    "\n",
    "\n",
    "\n",
    "\n",
    "1. Importa la librería `numpy` y crea un array con valores del 1 al 10.\n",
    "2. Calcula la media y la suma de los valores del array.\n",
    "\n",
    "📍 *Tip: Usa `np.mean()` y `np.sum()`.*"
   ]
  },
  {
   "cell_type": "code",
   "execution_count": null,
   "id": "5fb13acd",
   "metadata": {},
   "outputs": [],
   "source": [
    "import numpy as np \n",
    "\n",
    "arr = np.array(range(1, 11))  # Array del 1 al 10\n",
    "\n",
    "print(\"Array:\", arr)\n",
    "print(\"Media:\", np.mean(arr))\n",
    "print(\"Suma:\", np.sum(arr))"
   ]
  },
  {
   "cell_type": "markdown",
   "id": "2b471369",
   "metadata": {},
   "source": [
    "### 📌 Integración con Google Drive"
   ]
  },
  {
   "cell_type": "code",
   "execution_count": null,
   "id": "1c00a51f",
   "metadata": {},
   "outputs": [
    {
     "name": "stdout",
     "output_type": "stream",
     "text": [
      "Mounted at /content/drive\n"
     ]
    }
   ],
   "source": [
    "# Al ejecutar esta celda se vinculará tu cuenta de Google Drive\n",
    "\n",
    "from google.colab import drive\n",
    "# This will prompt for authorization.\n",
    "drive.mount('/content/drive')"
   ]
  },
  {
   "cell_type": "markdown",
   "id": "b5f5edb7",
   "metadata": {},
   "source": [
    "## 📌 Archivos"
   ]
  },
  {
   "cell_type": "markdown",
   "id": "109662db",
   "metadata": {},
   "source": [
    "La función incorporada open() toma como argumento la ruta de un archivo y retorna una instancia del tipo file.\n",
    "Si no se especifica una ruta, el fichero se busca en el directorio actual. Por defecto el modo de apertura es únicamente para lectura. La función read() retorna el contenido del archivo abierto.\n",
    "Una vez que se ha terminado de trabajar con el fichero debe cerrarse vía close().\n"
   ]
  },
  {
   "cell_type": "markdown",
   "id": "30d70652",
   "metadata": {},
   "source": [
    "Para abrir un archivo en modo escritura, debe especificarse en el segundo argumento.\n",
    "Para escribir en él se emplea el método write().\n",
    "\n",
    "Para leer, escribir y añadir contenido de un fichero en formato binario, deben utilizarse los modos \"rb\", \"wb\" y \"ab\", respectivamente.\n"
   ]
  },
  {
   "cell_type": "code",
   "execution_count": null,
   "id": "57746c09",
   "metadata": {},
   "outputs": [],
   "source": [
    "#Esta celda generará un \"archivo_nuevo_generado_por_colab.txt\" en tu almacenamiento de Drive\n",
    "f = open(\"archivo_nuevo_generado_por_colab.txt\", \"w\") \n",
    "\n",
    "f.write(\"Hola mundo\")\n",
    "f.close()"
   ]
  },
  {
   "cell_type": "markdown",
   "id": "d2a898ba",
   "metadata": {},
   "source": [
    "Nótese que la función write() reemplaza todo el contenido anterior. Para añadir datos al final del archivo sin borrar información previa, el fichero debe abrirse en la modalidad append (\"a\").\n"
   ]
  },
  {
   "cell_type": "code",
   "execution_count": null,
   "id": "ac28c6fa",
   "metadata": {},
   "outputs": [],
   "source": [
    "f = open(\"archivo_nuevo_generado_por_colab.txt\", \"a\")\n",
    "\n",
    "f.write(\"\\nHola \")\n",
    "f.write(\"mundo\")\n",
    "f.close()"
   ]
  },
  {
   "cell_type": "markdown",
   "id": "41cae4cb",
   "metadata": {},
   "source": [
    "Ademas de este método, podemos usar la sentencia with open. Esto nos permite prescindir de las instancias de apertura y cierre de archivos mientras estamos trabajando."
   ]
  },
  {
   "cell_type": "code",
   "execution_count": null,
   "id": "a253d764",
   "metadata": {},
   "outputs": [],
   "source": [
    "# Esta celda generará un \"archivo_nuevo_generado_with_open\" en tu almacenamiento de Drive\n",
    "with open(\"archivo_nuevo_generado_with_open.txt\", 'w') as file:\n",
    "  archivo_modificado = file.write(\"linea numero 1\")\n"
   ]
  },
  {
   "cell_type": "code",
   "execution_count": null,
   "id": "3663bde5",
   "metadata": {},
   "outputs": [
    {
     "name": "stdout",
     "output_type": "stream",
     "text": [
      "['linea numero 1']\n"
     ]
    }
   ],
   "source": [
    "with open(\"archivo_nuevo_generado_with_open.txt\", \"r\") as file2:\n",
    "  print(file2.readlines())\n"
   ]
  },
  {
   "cell_type": "markdown",
   "id": "ca2feb2b",
   "metadata": {},
   "source": [
    "## 📌 Instalación y uso de librerías externas\n",
    "Colab permite instalar paquetes adicionales. Por ejemplo, podemos instalar la librería `transformers` de Hugging Face para NLP."
   ]
  },
  {
   "cell_type": "code",
   "execution_count": null,
   "id": "4c3d5e1c",
   "metadata": {},
   "outputs": [],
   "source": [
    "!pip install transformers"
   ]
  },
  {
   "cell_type": "code",
   "execution_count": null,
   "id": "0f27986d",
   "metadata": {},
   "outputs": [],
   "source": [
    "from transformers import pipeline\n",
    "\n",
    "# Crear un modelo de análisis de sentimiento\n",
    "classifier = pipeline(\"sentiment-analysis\")\n"
   ]
  },
  {
   "cell_type": "code",
   "execution_count": null,
   "id": "24a02af0",
   "metadata": {},
   "outputs": [],
   "source": [
    "result = classifier(\"Este curso es excelente!\")\n",
    "print(\"Análisis de sentimiento:\", result)"
   ]
  },
  {
   "cell_type": "markdown",
   "id": "e43e63fe",
   "metadata": {},
   "source": [
    "## 📌 Manejo de archivos en Google Colab\n",
    "Podemos subir archivos directamente desde nuestra computadora y trabajar con ellos en Colab."
   ]
  },
  {
   "cell_type": "code",
   "execution_count": null,
   "id": "e56b9288",
   "metadata": {},
   "outputs": [],
   "source": [
    "from google.colab import files\n",
    "# Subir un archivo\n",
    "uploaded = files.upload()\n",
    "# Leer un archivo CSV\n",
    "import pandas as pd\n",
    "df = pd.read_csv(list(uploaded.keys())[0])\n",
    "print(df.head())"
   ]
  },
  {
   "cell_type": "markdown",
   "id": "44c2eef8",
   "metadata": {},
   "source": [
    "## 📌 Exploración de Kaggle\n",
    "Podemos descargar datasets directamente desde Kaggle."
   ]
  },
  {
   "cell_type": "code",
   "execution_count": null,
   "id": "a2809694",
   "metadata": {},
   "outputs": [],
   "source": [
    "!pip install kaggle\n",
    "import os\n",
    "os.environ['KAGGLE_CONFIG_DIR'] = \"/content/\"\n",
    "!kaggle datasets download -d zillow/zecon"
   ]
  },
  {
   "cell_type": "markdown",
   "id": "d3a98df6",
   "metadata": {},
   "source": [
    "## 📌 Exploración de Hugging Face\n",
    "Podemos acceder a modelos pre-entrenados y datasets de NLP fácilmente."
   ]
  },
  {
   "cell_type": "code",
   "execution_count": null,
   "id": "af81a9ec",
   "metadata": {},
   "outputs": [],
   "source": [
    "!pip install datasets\n",
    "from datasets import load_dataset\n",
    "dataset = load_dataset(\"imdb\")\n",
    "print(dataset[\"train\"][0])"
   ]
  },
  {
   "cell_type": "markdown",
   "id": "017cac61",
   "metadata": {},
   "source": [
    "## 📌 Uso de GitHub\n",
    "Podemos clonar repositorios de GitHub y trabajar con ellos directamente en Colab."
   ]
  },
  {
   "cell_type": "code",
   "execution_count": null,
   "id": "9783b408",
   "metadata": {},
   "outputs": [],
   "source": [
    "!git clone https://github.com/huggingface/transformers.git\n",
    "!ls transformers"
   ]
  }
 ],
 "metadata": {
  "language_info": {
   "name": "python"
  }
 },
 "nbformat": 4,
 "nbformat_minor": 5
}
