{
 "cells": [
  {
   "cell_type": "markdown",
   "id": "72732539",
   "metadata": {},
   "source": [
    "[![Open In Colab](https://colab.research.google.com/assets/colab-badge.svg)](https://colab.research.google.com/github/seminario-algosups/seminario-algosups.github.io/blob/master/Clase-02/clase-2-mas_python_datasets.ipynb)\n",
    "\n",
    "### Sugerencias de uso de la Notebook: \n",
    "-- Sugerimos 'Abrir en Colab' y realizar una copia del cuaderno antes de usarlo.\n",
    "\n",
    "\n",
    "\n"
   ]
  },
  {
   "cell_type": "markdown",
   "id": "dc164566",
   "metadata": {},
   "source": [
    "# 📘 Introducción a Python - Parte 2\n",
    "\n",
    "\n",
    "\n",
    "Esta notebook cubre el uso de Python en Google Colab, que comprende el concepto de índices, bucles, condicionales hasta el uso librerías, manejo de archivos y la exploración de recursos esenciales como Kaggle HuggingFace 🤗 y GitHub (Desde el entorno de Google Colab)\n"
   ]
  },
  {
   "cell_type": "markdown",
   "id": "a18006aa",
   "metadata": {},
   "source": [
    "## Recapitulación\n",
    "- Revisar lo visto hasta acá\n",
    "\n",
    "\n",
    "\n",
    "### Índices\n",
    "\n",
    "Las cadenas y las listas son secuencias de elementos. O sea, conjuntos ordenados que se pueden indizar, recortar, reordenar, etc.\n",
    "Es decir que podemos acceder a los elementos que componen una lista usando corchetes y un indice. Dicho indice va desde 0 a n-1, siendo n el tamaño de la lista. "
   ]
  },
  {
   "cell_type": "code",
   "execution_count": 2,
   "id": "3c66d7f5",
   "metadata": {},
   "outputs": [
    {
     "data": {
      "text/plain": [
       "list"
      ]
     },
     "execution_count": 2,
     "metadata": {},
     "output_type": "execute_result"
    }
   ],
   "source": [
    "lista_de_nombres = [\"Gerardo\", \"Esteban\", \"Florencia\", \"Vanesa\", \"Adrian\"]\n",
    "type(lista_de_nombres)"
   ]
  },
  {
   "cell_type": "code",
   "execution_count": null,
   "id": "a320ee29",
   "metadata": {},
   "outputs": [],
   "source": [
    "len(lista_de_nombres)"
   ]
  },
  {
   "cell_type": "code",
   "execution_count": null,
   "id": "d166dfa2",
   "metadata": {},
   "outputs": [],
   "source": [
    "print(lista_de_nombres[1]) #Qué pasará?\n",
    "print(lista_de_nombres[:2]) #Qué pasará?\n",
    "print(lista_de_nombres[2:]) #Qué pasará?\n",
    "print(lista_de_nombres[0]) #Qué pasará?\n",
    "print(lista_de_nombres[-1:]) #Qué pasará?"
   ]
  },
  {
   "cell_type": "markdown",
   "id": "242d710c",
   "metadata": {},
   "source": [
    "Asi como las cadenas de textos, las listas son elementos iterables. \n",
    "Podemos recorrer sus elementos de forma iterativa, es decir, a menudo empezamos por el principio y en cada vuelta seleccionamos un caracter, un nombre, hacemos algo con eso y continuamos hasta que se acaben los elementos o algo nos indique detenernos. \n",
    "\n",
    "Este recorrido se conoce como bucle. "
   ]
  },
  {
   "cell_type": "markdown",
   "id": "d7b78275",
   "metadata": {},
   "source": [
    "## 📌 Bucles\n",
    "\n",
    "\n",
    "Un bucle repite un bloque de código varias veces, hasta que se cumpla una condición. Los bucles son útiles para automatizar tareas repetitivas.\n",
    "\n",
    "Los bucles, por otra parte, existen en todos los lenguajes de programación. Aunque  difieren en su implementación y la sintaxis varía entre los distintos lenguajes, brindan funcionalidades básicas similares. \n",
    "\n",
    "### While:\n",
    "- Tiene un **número indefinido** de iteraciones.\n",
    "- La sintaxis es: `while <condición>: <bloque de código>`.\n",
    "- El código del cuerpo del bucle debe 'hacer algo' hasta que la condición resulte falsa.\n",
    "\n",
    "### For\n",
    "\n",
    "- Se utiliza para **iterar sobre una secuencia**, como una lista, tupla o string. \n",
    "- La sintaxis es: `for <variable> in <secuencia>: <bloque de código>`. \n",
    "- El bucle itera sobre cada elemento de la secuencia. "
   ]
  },
  {
   "cell_type": "code",
   "execution_count": null,
   "id": "bf8092b4",
   "metadata": {},
   "outputs": [
    {
     "name": "stdout",
     "output_type": "stream",
     "text": [
      "0\n",
      "Gerardo\n",
      "1\n",
      "Esteban\n",
      "2\n",
      "Florencia\n",
      "3\n",
      "Vanesa\n",
      "4\n",
      "Adrian\n"
     ]
    }
   ],
   "source": [
    "indice = 0 \n",
    "\n",
    "while indice < len(lista_de_nombres): # Condición del bucle\n",
    "    print(indice)\n",
    "    nombre = lista_de_nombres[indice]\n",
    "    print(nombre)\n",
    "    indice += 1\n",
    "    \n"
   ]
  },
  {
   "cell_type": "code",
   "execution_count": 6,
   "id": "4f9df7c9",
   "metadata": {},
   "outputs": [
    {
     "ename": "IndexError",
     "evalue": "list index out of range",
     "output_type": "error",
     "traceback": [
      "\u001b[31m---------------------------------------------------------------------------\u001b[39m",
      "\u001b[31mIndexError\u001b[39m                                Traceback (most recent call last)",
      "\u001b[36mCell\u001b[39m\u001b[36m \u001b[39m\u001b[32mIn[6]\u001b[39m\u001b[32m, line 3\u001b[39m\n\u001b[32m      1\u001b[39m \u001b[38;5;28mlen\u001b[39m(lista_de_nombres)\n\u001b[32m----> \u001b[39m\u001b[32m3\u001b[39m \u001b[38;5;28mprint\u001b[39m(\u001b[43mlista_de_nombres\u001b[49m\u001b[43m[\u001b[49m\u001b[32;43m6\u001b[39;49m\u001b[43m]\u001b[49m)\n",
      "\u001b[31mIndexError\u001b[39m: list index out of range"
     ]
    }
   ],
   "source": [
    "len(lista_de_nombres)\n",
    "\n",
    "print(lista_de_nombres[6])"
   ]
  },
  {
   "cell_type": "code",
   "execution_count": null,
   "id": "d3f51c35",
   "metadata": {},
   "outputs": [
    {
     "name": "stdout",
     "output_type": "stream",
     "text": [
      "1 Nombre:  Gerardo\n",
      "2 Nombre:  Esteban\n",
      "3 Nombre:  Florencia\n",
      "4 Nombre:  Vanesa\n",
      "5 Nombre:  Adrian\n"
     ]
    }
   ],
   "source": [
    "x = 0 # Contador\n",
    "for nombre in lista_de_nombres:\n",
    "    x += 1 \n",
    "    print(x, \"Nombre: \",nombre)"
   ]
  },
  {
   "cell_type": "code",
   "execution_count": 9,
   "id": "ae972bc9",
   "metadata": {},
   "outputs": [
    {
     "name": "stdout",
     "output_type": "stream",
     "text": [
      "1 Nombre:  Gerardo\n",
      "2 Nombre:  Esteban\n",
      "3 Nombre:  Florencia\n",
      "4 Nombre:  Vanesa\n",
      "5 Nombre:  Adrian\n"
     ]
    }
   ],
   "source": [
    "x = 0 # Contador\n",
    "for i in lista_de_nombres:\n",
    "    x += 1 \n",
    "    print(x, \"Nombre: \", i)"
   ]
  },
  {
   "cell_type": "code",
   "execution_count": null,
   "id": "dcb5ff6e",
   "metadata": {},
   "outputs": [
    {
     "name": "stdout",
     "output_type": "stream",
     "text": [
      "5\n",
      "Despegue!\n",
      "4\n",
      "Despegue!\n",
      "3\n",
      "Despegue!\n",
      "2\n",
      "Despegue!\n",
      "1\n",
      "Despegue!\n",
      "0\n"
     ]
    }
   ],
   "source": [
    "def regresion(n:int):\n",
    "    while n > 0:\n",
    "        print(n)\n",
    "        n = n-1\n",
    "    print('Despegue!')\n",
    "\n",
    "    \n",
    "regresion(int(input(\"Ingresá un numero:\")))"
   ]
  },
  {
   "cell_type": "markdown",
   "id": "aa5efdd3",
   "metadata": {},
   "source": [
    "### Expresiones booleanas\n",
    "\n",
    "**Expresión booleana:** Es una expresión que es cierta o falsa. En Python una expresión que es verdadera tiene el valor 1 y una expresion falsa tiene el valor 0. \n",
    "\n",
    "Podemos generar expresiones booleanas utilizando operador de comparación u operadores relacionales. Estos comparan dos valores: **==**, **!=**, **>**, **<**, **>=** y **<=** y nos devuelven el valor de verdad del enunciado.\n",
    "\n",
    "**ACLARACIÓN: el signo = nos permite asignar un valor a una variable. El signo == nos permite comparar dos valores (sean int, string o float)**\n",
    "\n",
    "\n",
    "Otros operadores de comparación:\n",
    "- x != y # x no es igual a y\n",
    "- x > y # x es mayor que y\n",
    "- x < y # x es menor que y\n",
    "- x >= y # x es mayor o igual que y\n",
    "- x <= y # x es menor o igual que y"
   ]
  },
  {
   "cell_type": "code",
   "execution_count": 18,
   "id": "f7115119",
   "metadata": {},
   "outputs": [],
   "source": [
    "#4 > 2\n",
    "#4 < 2\n",
    "#4 == 4   # OJO: \" = \"\n",
    "cuatro = 4"
   ]
  },
  {
   "cell_type": "markdown",
   "id": "b1364074",
   "metadata": {},
   "source": [
    "### Operadores Lógicos:\n",
    "\n",
    "\n",
    "Hay tres operadores lógicos: `and`, `or`, y `not`. La semántica (significado) de estos operadores es similar a sus significados en inglés. \n",
    "\n",
    "Por ejemplo, `x > 0 and x <10` es verdadero **sólo si x es mayor que 0 y menor que 10**.\n",
    "\n",
    "\n",
    "\n",
    "`n %2 == 0 or n %3 == 0` es verdadero si cualquiera de las condiciones es verdadera, o sea, si el numero es divisible por 2 o por 3.\n",
    "\n",
    "\n",
    "\n",
    "Finalmente, el operador `not` niega una expresion booleana, de forma que `not(x > y)` es cierto si `(x > y)` es falso, o sea, si x es menor o igual que y.\n"
   ]
  },
  {
   "cell_type": "code",
   "execution_count": 20,
   "id": "9ebf8574",
   "metadata": {},
   "outputs": [
    {
     "data": {
      "text/plain": [
       "True"
      ]
     },
     "execution_count": 20,
     "metadata": {},
     "output_type": "execute_result"
    }
   ],
   "source": [
    "# Descomenta la siguiente linea para ver qué sucede\n",
    "1 == True #?"
   ]
  },
  {
   "cell_type": "markdown",
   "id": "72761aa9",
   "metadata": {},
   "source": [
    "\n",
    "### Ejecución condicional\n",
    "\n",
    "**Sentencia condicional:** Sentencia que controla el flujo de ejecución de un programa dependiendo de cierta condición. Es decir, es una sentencia que, dependiendo de su valor de verdad, nos permite establecer si el programa se sigue ejecutando o no. La forma más simple es la sentencia **if**.\n",
    "\n",
    "**Condición:** La expresión booleana que sucede al if en una sentencia condicional. Esta expresión determina qué rama del programa se ejecutará. "
   ]
  },
  {
   "cell_type": "code",
   "execution_count": 21,
   "id": "be6a4dc0",
   "metadata": {},
   "outputs": [
    {
     "name": "stdout",
     "output_type": "stream",
     "text": [
      "Nombre Propio: Femenino\n"
     ]
    }
   ],
   "source": [
    "nombre = input(\"Cómo te llamás?\")\n",
    "if nombre[-1] == \"a\":\n",
    "    print(\"Nombre Propio: Femenino\")"
   ]
  },
  {
   "cell_type": "markdown",
   "id": "3783f9a6",
   "metadata": {},
   "source": [
    "### Ejecución alternativa: \n",
    "La ejecución alternativa de la sentencia condicional es aquella en la que tenemos más de una posibilidad. Cada condición determina qué posibilidad se ejecuta. Cada posibilidad en el flujo de la ejecución se denomina rama.\n",
    "\n",
    "Si tenemos solamente dos posibilidades, podemos usar **if** y **else**. If define nuestra condición y else nos dice qué sucede si esa condición no es cierta.\n",
    "\n",
    "Si queremos tener más de dos posibilidades, usamos **if**, **elif** (abreviación de 'else if') y **else**. En este caso, if define una condición, elif nos permite definir otra condición (es posible tener varios elif) y else nos dice qué sucede si nada de lo anterior es cierto."
   ]
  },
  {
   "cell_type": "code",
   "execution_count": 22,
   "id": "2033e422",
   "metadata": {},
   "outputs": [],
   "source": [
    "np_masc = [] # Creo dos listas vacías para separarlos\n",
    "np_fem = []\n",
    "\n",
    "for nombre in lista_de_nombres:\n",
    "    if nombre[-1] == \"n\":\n",
    "        np_masc.append(nombre) # Agrego elemento a la lista\n",
    "    elif nombre[-1] == \"o\":\n",
    "        np_masc.append(nombre) # Agrego elemento a la lista\n",
    "    else:\n",
    "        np_fem.append(nombre) # Agrego elemento a la lista"
   ]
  },
  {
   "cell_type": "code",
   "execution_count": 23,
   "id": "53a19a0c",
   "metadata": {},
   "outputs": [
    {
     "data": {
      "text/plain": [
       "['Gerardo', 'Esteban', 'Adrian']"
      ]
     },
     "execution_count": 23,
     "metadata": {},
     "output_type": "execute_result"
    }
   ],
   "source": [
    "np_masc"
   ]
  },
  {
   "cell_type": "code",
   "execution_count": 24,
   "id": "69410c98",
   "metadata": {},
   "outputs": [
    {
     "data": {
      "text/plain": [
       "['Florencia', 'Vanesa']"
      ]
     },
     "execution_count": 24,
     "metadata": {},
     "output_type": "execute_result"
    }
   ],
   "source": [
    "np_fem"
   ]
  },
  {
   "cell_type": "code",
   "execution_count": 25,
   "id": "ab72c53a",
   "metadata": {},
   "outputs": [
    {
     "name": "stdout",
     "output_type": "stream",
     "text": [
      "Vamos bien\n"
     ]
    }
   ],
   "source": [
    "if 2 == 4:\n",
    "    print(\"Recursa matematica\")\n",
    "else: \n",
    "    print(\"Vamos bien\")    \n"
   ]
  },
  {
   "cell_type": "markdown",
   "id": "f7ce6d11",
   "metadata": {},
   "source": [
    "### 📍 Ejercicio:\n",
    "Escribir una función que tome un carácter y devuelva True si es una vocal, de lo contrario devuelve False."
   ]
  },
  {
   "cell_type": "code",
   "execution_count": 38,
   "id": "01f1271f",
   "metadata": {},
   "outputs": [],
   "source": [
    "def is_vowel(letra):\n",
    "    vowels = [\"a\",\"e\",\"i\",\"o\",\"u\"]\n",
    "    if letra in vowels:\n",
    "        return True\n",
    "    else: \n",
    "        return False\n",
    "    \n",
    "    \n",
    "def is_vowel2(c):\n",
    "    vowels = [\"a\",\"e\",\"i\",\"o\",\"u\"]\n",
    "    for v in vowels:\n",
    "        print(v)\n",
    "        if v == c:\n",
    "            return True\n",
    "            \n",
    "def is_vowel_uni():\n",
    "    letra = input('Escribí un caracter ')\n",
    "    vowels = [\"a\",\"e\",\"i\",\"o\",\"u\"]\n",
    "    if letra.lower() in vowels:\n",
    "        return True\n",
    "    else: \n",
    "        return False\n",
    "    "
   ]
  },
  {
   "cell_type": "code",
   "execution_count": 39,
   "id": "a7c514cf",
   "metadata": {},
   "outputs": [
    {
     "name": "stdout",
     "output_type": "stream",
     "text": [
      "a\n",
      "e\n",
      "i\n"
     ]
    },
    {
     "data": {
      "text/plain": [
       "True"
      ]
     },
     "execution_count": 39,
     "metadata": {},
     "output_type": "execute_result"
    }
   ],
   "source": [
    "is_vowel2(\"i\")"
   ]
  },
  {
   "cell_type": "markdown",
   "id": "5ed91281",
   "metadata": {},
   "source": [
    "## 📌 **Uso de Librerías**\n",
    "\n",
    "Las librerías de Python son conjuntos de funciones, clases y métodos predefinidos que extienden la funcionalidad básica del lenguaje. \n",
    "En este sentido, permiten a los desarrolladores acceder a un conjunto amplio de funcionalidades específicas, como manipulación de cadenas, operaciones matemáticas, acceso a bases de datos, manipulación de archivos, creación de interfaces gráficas, procesamiento de datos científicos, creación de sitios web, entre muchas otras.\n",
    "\n",
    "Además las pueden encontrar como bibliotecas\n",
    "\n",
    "### Librería estándar \n",
    "\n",
    "La librería estándar es un conjunto de módulos y paquetes que se distribuyen junto con Python. Muchas de las operaciones más comúnes de la programación diaria ya están implementadas en ella. \n",
    "\n",
    "Pueden acceder a la [documentación](https://docs.python.org/es/3.13/library/index.html)\n",
    "\n",
    "### Cómo usamos una libreria?"
   ]
  },
  {
   "cell_type": "code",
   "execution_count": 40,
   "id": "2e90a5ba",
   "metadata": {},
   "outputs": [
    {
     "name": "stdout",
     "output_type": "stream",
     "text": [
      "!\"#$%&'()*+,-./:;<=>?@[\\]^_`{|}~\n"
     ]
    }
   ],
   "source": [
    "from string import punctuation\n",
    "\n",
    "print(punctuation)"
   ]
  },
  {
   "cell_type": "code",
   "execution_count": 41,
   "id": "70080358",
   "metadata": {},
   "outputs": [
    {
     "data": {
      "text/plain": [
       "['mi_libreria.py',\n",
       " '__pycache__',\n",
       " 'clase-2-mas_python_datasets.md',\n",
       " 'index.md',\n",
       " 'clase-2-mas_python_datasets.ipynb',\n",
       " 'imgs']"
      ]
     },
     "execution_count": 41,
     "metadata": {},
     "output_type": "execute_result"
    }
   ],
   "source": [
    "import os # importamos el modulo os\n",
    "\n",
    "\n",
    "\n",
    "os.listdir('.')   # podemos uasr la función listdir (de os)\n",
    "                  # para listar los archivos y carpetas\n",
    "                  # en este directorio"
   ]
  },
  {
   "cell_type": "code",
   "execution_count": null,
   "id": "7895c499",
   "metadata": {},
   "outputs": [],
   "source": [
    "from os import listdir # Importamos sólo una funcionalidad del módulo en cuestión\n",
    "\n",
    "listdir(\".\") # Además podemos usar directamente la función,\n",
    "             # ya que en este caso la importamos desde el \n",
    "             # módulo os"
   ]
  },
  {
   "cell_type": "code",
   "execution_count": null,
   "id": "5fb13acd",
   "metadata": {},
   "outputs": [],
   "source": []
  },
  {
   "cell_type": "markdown",
   "id": "9687fb89",
   "metadata": {},
   "source": [
    "## Módulos propios\n",
    "\n",
    "Nosotros podemos construir nuestro propio set de herramientas e importar funcionalidades previamente desarolladas, a la vez que podemos hacer uso de librerías 'ajenas' o desarrolladas por alguien más, una persona, una empresa o la comunidad OS. "
   ]
  },
  {
   "cell_type": "code",
   "execution_count": 42,
   "id": "cc085693",
   "metadata": {},
   "outputs": [
    {
     "data": {
      "text/plain": [
       "'UN TEXTO RANDOM'"
      ]
     },
     "execution_count": 42,
     "metadata": {},
     "output_type": "execute_result"
    }
   ],
   "source": [
    "from mi_libreria import pasar_a_mayusculas\n",
    "pasar_a_mayusculas(\"un texto random\")"
   ]
  },
  {
   "cell_type": "markdown",
   "id": "2b471369",
   "metadata": {},
   "source": [
    "### 📌 Integración con Google Drive"
   ]
  },
  {
   "cell_type": "code",
   "execution_count": null,
   "id": "1c00a51f",
   "metadata": {},
   "outputs": [],
   "source": [
    "# Al ejecutar esta celda se vinculará tu cuenta de Google Drive\n",
    "# Si no estás trabajando desde colab, omití este paso.\n",
    "\n",
    "from google.colab import drive\n",
    "drive.mount('/content/drive')"
   ]
  },
  {
   "cell_type": "markdown",
   "id": "b5f5edb7",
   "metadata": {},
   "source": [
    "## 📌 Archivos"
   ]
  },
  {
   "cell_type": "markdown",
   "id": "109662db",
   "metadata": {},
   "source": [
    "La función incorporada `open()` toma como argumento la ruta de un archivo y retorna una instancia del tipo file.\n",
    "\n",
    "Si no se especifica una ruta, el fichero se busca en el directorio actual. Por defecto el modo de apertura es únicamente para lectura. \n",
    "\n",
    "La función `read()` retorna el contenido del archivo abierto.\n",
    "\n",
    "Una vez que se ha terminado de trabajar con el fichero debe cerrarse vía `close()`.\n"
   ]
  },
  {
   "cell_type": "markdown",
   "id": "30d70652",
   "metadata": {},
   "source": [
    "Para abrir un archivo en modo escritura, debe especificarse en el segundo argumento.\n",
    "Para escribir en él se emplea el método `write()`.\n",
    "\n",
    "Para leer, escribir y añadir contenido de un fichero en formato binario, deben utilizarse los modos `\"rb\", \"wb\" y \"ab\"`, respectivamente.\n"
   ]
  },
  {
   "cell_type": "code",
   "execution_count": null,
   "id": "57746c09",
   "metadata": {},
   "outputs": [],
   "source": [
    "#Esta celda generará un \"archivo_nuevo_generado_por_colab.txt\" en tu almacenamiento de Drive, en caso de que estés utilizando colab.\n",
    "f = open(\"archivo_nuevo_generado_por_colab.txt\", \"w\") \n",
    "\n",
    "f.write(\"Hola mundo\")\n",
    "f.close()"
   ]
  },
  {
   "cell_type": "markdown",
   "id": "d2a898ba",
   "metadata": {},
   "source": [
    "\n",
    "Nótese que la función `write()` _reemplaza_ todo el contenido anterior. \n",
    "\n",
    "Para **añadir** datos al final del archivo sin borrar información previa, el fichero debe abrirse en la modalidad **append** `(\"a\")`.\n"
   ]
  },
  {
   "cell_type": "code",
   "execution_count": null,
   "id": "ac28c6fa",
   "metadata": {},
   "outputs": [],
   "source": [
    "f = open(\"archivo_nuevo_generado_por_colab.txt\", \"a\")\n",
    "\n",
    "f.write(\"\\nHola \")\n",
    "f.write(\"mundo\")\n",
    "f.close()"
   ]
  },
  {
   "cell_type": "markdown",
   "id": "41cae4cb",
   "metadata": {},
   "source": [
    "Ademas de este método, podemos usar la sentencia with open. Esto nos permite prescindir de las instancias de apertura y cierre de archivos mientras estamos trabajando."
   ]
  },
  {
   "cell_type": "code",
   "execution_count": null,
   "id": "a253d764",
   "metadata": {},
   "outputs": [],
   "source": [
    "# Esta celda generará un \"archivo_nuevo_generado_with_open\" en tu almacenamiento de Drive\n",
    "with open(\"archivo_nuevo_generado_with_open.txt\", 'w') as file:\n",
    "  archivo_modificado = file.write(\"linea numero 1\")\n"
   ]
  },
  {
   "cell_type": "code",
   "execution_count": null,
   "id": "3663bde5",
   "metadata": {},
   "outputs": [],
   "source": [
    "with open(\"archivo_nuevo_generado_with_open.txt\", \"r\") as file2:\n",
    "  print(file2.readlines())\n"
   ]
  },
  {
   "cell_type": "markdown",
   "id": "ca2feb2b",
   "metadata": {},
   "source": [
    "## 📌 Instalación y uso de librerías externas\n",
    "Colab permite instalar paquetes adicionales. Por ejemplo, podemos instalar la librería `transformers` de Hugging Face.\n",
    "\n",
    "Si vamos a la [documentación](https://huggingface.co/docs/transformers/es/index) de la libreria nos encontramos con lo siguiente: \n",
    "\n",
    "\n",
    "\"Transformers proporciona APIs para descargar y entrenar fácilmente modelos preentrenados de última generación. El uso de modelos preentrenados puede reducir tus costos de cómputo, tu huella de carbono y ahorrarte tiempo al entrenar un modelo desde cero.\"\n",
    "\n",
    "\"Nuestra biblioteca admite una integración perfecta entre tres de las **bibliotecas** de deep learning más populares: PyTorch, TensorFlow y JAX. Entrena tu modelo con tres líneas de código en un framework y cárgalo para inferencia con otro. Cada arquitectura de 🤗 Transformers se define en un **módulo** de Python independiente para que se puedan personalizar fácilmente para investigación y experimentos.\"\n",
    "\n",
    "### Pero, pero pero....\n",
    "Además de ser el nombre de una libreria o biblioteca, un transformer es un tipo de arquitectura de red neuronal, en este curso nos ocuparemos de la librería, pero no se debe confundirlas.\n",
    "\n",
    "<div style=\"text-align: center;\">\n",
    "    <img src=\"imgs/autobots.jpg\" alt=\"Autobot\">\n",
    "</div>\n"
   ]
  },
  {
   "cell_type": "code",
   "execution_count": null,
   "id": "4c3d5e1c",
   "metadata": {},
   "outputs": [],
   "source": [
    "# !pip install transformers"
   ]
  },
  {
   "cell_type": "code",
   "execution_count": null,
   "id": "0f27986d",
   "metadata": {},
   "outputs": [],
   "source": [
    "from transformers import pipeline\n",
    "\n",
    "classifier = pipeline(\"sentiment-analysis\")"
   ]
  },
  {
   "cell_type": "code",
   "execution_count": null,
   "id": "24a02af0",
   "metadata": {},
   "outputs": [],
   "source": [
    "result = classifier(\"Este curso es excelente!\")\n",
    "print(\"Análisis de sentimiento:\", result)"
   ]
  },
  {
   "cell_type": "markdown",
   "id": "4a6c0516",
   "metadata": {},
   "source": [
    "### Ejercicio:\n",
    "- Definí una lista de 5 oraciones.\n",
    "- Definí una función que tome una lista de strings y devuelva el sentiment asociado para cada una.\n",
    "- Tip: Podes usar un bucle for para recorrer la lista de oraciones dentro de la función.\n",
    "- Para obtener el sentiment de una oración utilizá el pipeline definido más arriba."
   ]
  },
  {
   "cell_type": "code",
   "execution_count": null,
   "id": "faa92a1b",
   "metadata": {},
   "outputs": [],
   "source": [
    "# Escribi acá tu respuesta.\n",
    "\n",
    "def obtener_sentiment(lista):\n",
    "    return lista"
   ]
  },
  {
   "cell_type": "code",
   "execution_count": null,
   "id": "136e39bc",
   "metadata": {},
   "outputs": [],
   "source": []
  },
  {
   "cell_type": "markdown",
   "id": "e43e63fe",
   "metadata": {},
   "source": [
    "## 📌 Manejo de archivos en Google Colab\n",
    "Podemos subir archivos directamente desde nuestra computadora y trabajar con ellos en Colab."
   ]
  },
  {
   "cell_type": "code",
   "execution_count": null,
   "id": "e56b9288",
   "metadata": {},
   "outputs": [],
   "source": [
    "from google.colab import files\n",
    "# Subir un archivo\n",
    "uploaded = files.upload() "
   ]
  },
  {
   "cell_type": "code",
   "execution_count": null,
   "id": "a450cbce",
   "metadata": {},
   "outputs": [],
   "source": [
    "# Leer un archivo CSV\n",
    "import pandas as pd\n",
    "df = pd.read_csv(list(uploaded.keys())[0])\n",
    "print(df.head())"
   ]
  },
  {
   "cell_type": "markdown",
   "id": "44c2eef8",
   "metadata": {},
   "source": [
    "## 📌 Algunos recursos\n",
    "- Una fuente de recursos es [Kaggle](https://www.kaggle.com/) acá pueden encontrar datasets, desafíos para practicar y otras yerbas.\n",
    "- Otro lugar donde podemos encontrarnos con este tipo de datos es el [Hub](https://huggingface.co/datasets) de huggingFace."
   ]
  },
  {
   "cell_type": "markdown",
   "id": "d3a98df6",
   "metadata": {},
   "source": [
    "### Exploración de Datasets from Hugging Face\n",
    "Podemos acceder a modelos pre-entrenados y datasets."
   ]
  },
  {
   "cell_type": "code",
   "execution_count": null,
   "id": "af81a9ec",
   "metadata": {},
   "outputs": [],
   "source": [
    "!pip install datasets"
   ]
  },
  {
   "cell_type": "code",
   "execution_count": 1,
   "id": "47e2f91f",
   "metadata": {},
   "outputs": [
    {
     "name": "stdout",
     "output_type": "stream",
     "text": [
      "DatasetDict({\n",
      "    train: Dataset({\n",
      "        features: ['text', 'label'],\n",
      "        num_rows: 25000\n",
      "    })\n",
      "    test: Dataset({\n",
      "        features: ['text', 'label'],\n",
      "        num_rows: 25000\n",
      "    })\n",
      "    unsupervised: Dataset({\n",
      "        features: ['text', 'label'],\n",
      "        num_rows: 50000\n",
      "    })\n",
      "})\n"
     ]
    }
   ],
   "source": [
    "from datasets import load_dataset\n",
    "dataset = load_dataset(\"imdb\") \n",
    "\n",
    "\n",
    "print(dataset) ## Inspeccionemos cómo luce"
   ]
  },
  {
   "cell_type": "code",
   "execution_count": 12,
   "id": "c70232bb",
   "metadata": {},
   "outputs": [
    {
     "name": "stdout",
     "output_type": "stream",
     "text": [
      "{'label': 0,\n",
      " 'text': 'I rented I AM CURIOUS-YELLOW from my video store because of all the '\n",
      "         'controversy that surrounded it when it was first released in 1967. I '\n",
      "         'also heard that at first it was seized by U.S. customs if it ever '\n",
      "         'tried to enter this country, therefore being a fan of films '\n",
      "         'considered \"controversial\" I really had to see this for myself.<br '\n",
      "         '/><br />The plot is centered around a young Swedish drama student '\n",
      "         'named Lena who wants to learn everything she can about life. In '\n",
      "         'particular she wants to focus her attentions to making some sort of '\n",
      "         'documentary on what the average Swede thought about certain '\n",
      "         'political issues such as the Vietnam War and race issues in the '\n",
      "         'United States. In between asking politicians and ordinary denizens '\n",
      "         'of Stockholm about their opinions on politics, she has sex with her '\n",
      "         'drama teacher, classmates, and married men.<br /><br />What kills me '\n",
      "         'about I AM CURIOUS-YELLOW is that 40 years ago, this was considered '\n",
      "         'pornographic. Really, the sex and nudity scenes are few and far '\n",
      "         \"between, even then it's not shot like some cheaply made porno. While \"\n",
      "         'my countrymen mind find it shocking, in reality sex and nudity are a '\n",
      "         'major staple in Swedish cinema. Even Ingmar Bergman, arguably their '\n",
      "         'answer to good old boy John Ford, had sex scenes in his films.<br '\n",
      "         '/><br />I do commend the filmmakers for the fact that any sex shown '\n",
      "         'in the film is shown for artistic purposes rather than just to shock '\n",
      "         'people and make money to be shown in pornographic theaters in '\n",
      "         'America. I AM CURIOUS-YELLOW is a good film for anyone wanting to '\n",
      "         'study the meat and potatoes (no pun intended) of Swedish cinema. But '\n",
      "         \"really, this film doesn't have much of a plot.\"}\n"
     ]
    }
   ],
   "source": [
    "from pprint import pprint\n",
    "\n",
    "pprint(dataset['train'][0])  # Inspeccionemos cómo luce\n",
    "#print(dataset['train']['text'][0]) ## Inspeccionemos cómo luce\n",
    "#print(dataset['train']['label'][0]) ## Inspeccionemos cómo luce\n",
    "#print(dataset['train']['text'][0]) ## Inspeccionemos cómo luce"
   ]
  },
  {
   "cell_type": "markdown",
   "id": "cc9bc1c5",
   "metadata": {},
   "source": [
    "{% include copybutton.html %}\n",
    "{% include additional_content.html %}"
   ]
  },
  {
   "cell_type": "markdown",
   "id": "5ac25e4e",
   "metadata": {},
   "source": []
  }
 ],
 "metadata": {
  "kernelspec": {
   "display_name": ".venv",
   "language": "python",
   "name": "python3"
  },
  "language_info": {
   "codemirror_mode": {
    "name": "ipython",
    "version": 3
   },
   "file_extension": ".py",
   "mimetype": "text/x-python",
   "name": "python",
   "nbconvert_exporter": "python",
   "pygments_lexer": "ipython3",
   "version": "3.12.9"
  }
 },
 "nbformat": 4,
 "nbformat_minor": 5
}
