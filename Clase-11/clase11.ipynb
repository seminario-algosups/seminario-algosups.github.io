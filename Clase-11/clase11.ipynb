{
 "cells": [
  {
   "cell_type": "markdown",
   "metadata": {
    "id": "LBox2TIBQz42"
   },
   "source": [
    "# Parsers basados en constituyentes"
   ]
  },
  {
   "cell_type": "code",
   "execution_count": null,
   "metadata": {
    "id": "-BU9YW2hQPgl"
   },
   "outputs": [],
   "source": [
    "import nltk\n",
    "!pip install --user bllipparser"
   ]
  },
  {
   "cell_type": "code",
   "execution_count": null,
   "metadata": {
    "id": "bfNjjsKlQUVT"
   },
   "outputs": [],
   "source": [
    "import bllipparser\n",
    "from bllipparser import RerankingParser                             #Importa el parser\n",
    "from bllipparser.ModelFetcher import download_and_install_model     # Descarga e instala el \"modelo\"\n",
    "\n",
    "model_dir = download_and_install_model('WSJ', 'tmp/models')         #Crea una variable con el \"modelo\"\n",
    "rrp = RerankingParser.from_unified_model_dir(model_dir)"
   ]
  },
  {
   "cell_type": "code",
   "execution_count": null,
   "metadata": {
    "id": "meYR7eF7QXLt"
   },
   "outputs": [],
   "source": [
    "oracion2 = \"El sur de Alemania lucha contra el poder de la lluvia.\"\n",
    "parseo = rrp.simple_parse(oracion2)"
   ]
  },
  {
   "cell_type": "code",
   "execution_count": null,
   "metadata": {
    "id": "WTR-wyrtQZw8"
   },
   "outputs": [],
   "source": [
    "print(parseo)\n",
    "type(parseo)"
   ]
  },
  {
   "cell_type": "markdown",
   "metadata": {
    "id": "Ho7oshwiQwpZ"
   },
   "source": [
    "# Parsers de dependencias"
   ]
  },
  {
   "cell_type": "markdown",
   "metadata": {
    "id": "_0Hl9h1YREpT"
   },
   "source": [
    "## Spacy"
   ]
  },
  {
   "cell_type": "code",
   "execution_count": null,
   "metadata": {
    "id": "DnYfNG3BQv-y"
   },
   "outputs": [],
   "source": [
    "!pip install spacy\n",
    "!python -m spacy download es_core_news_sm\n",
    "!python -m spacy download es_core_news_md"
   ]
  },
  {
   "cell_type": "code",
   "execution_count": null,
   "metadata": {
    "id": "HqLrjm-qQ4eh"
   },
   "outputs": [],
   "source": [
    "import spacy\n",
    "from nltk import Tree\n",
    "from spacy import displacy\n",
    "\n",
    "def gramaticadependencias(sentence, model):       #Define la función\n",
    "    nlp = spacy.load(model)    #Carga el modelo entrenado\n",
    "    doc = nlp(sentence)                    #define una variable doc con la oración procesada por el modelo\n",
    "    for token in doc:\n",
    "        print(token.text, token.pos_, token.dep_, #token.head.text, token.head.pos_,\n",
    "            [child for child in token.children])\n",
    "    displacy.render(doc, style='dep', jupyter=True)\n",
    "\n",
    "modelsm = 'es_core_news_sm'\n",
    "modelmd = 'es_core_news_md'"
   ]
  },
  {
   "cell_type": "code",
   "execution_count": null,
   "metadata": {
    "id": "MRxjiSNCQ-bJ"
   },
   "outputs": [],
   "source": [
    "sentence = 'la mañana está fría para andar paseando'\n",
    "gramaticadependencias(sentence, modelmd)"
   ]
  },
  {
   "cell_type": "markdown",
   "metadata": {
    "id": "AWgJWgjcRGwJ"
   },
   "source": [
    "## Stanza"
   ]
  },
  {
   "cell_type": "code",
   "execution_count": null,
   "metadata": {
    "id": "Gt1siEmJRNHG"
   },
   "outputs": [],
   "source": [
    "!pip install stanza\n",
    "import stanza\n",
    "stanza.download('es') # Baja el modelo para el español"
   ]
  },
  {
   "cell_type": "code",
   "execution_count": null,
   "metadata": {
    "id": "-9H-YshXROov"
   },
   "outputs": [],
   "source": [
    "nlp = stanza.Pipeline('es') # Inicializa el modelo de español (con su pipeline de anotación)\n",
    "nlp"
   ]
  },
  {
   "cell_type": "code",
   "execution_count": null,
   "metadata": {
    "id": "Xx7C9PMVRUMp"
   },
   "outputs": [],
   "source": [
    "sentence = 'la mañana está muy fría para andar paseando'\n",
    "doc = nlp(sentence) # Anota una oración\n",
    "doc"
   ]
  },
  {
   "cell_type": "code",
   "execution_count": null,
   "metadata": {
    "id": "v7AkTUrVRYPP"
   },
   "outputs": [],
   "source": [
    "doc.sentences[0].print_dependencies()"
   ]
  },
  {
   "cell_type": "code",
   "execution_count": null,
   "metadata": {
    "id": "4odivbVtRaML"
   },
   "outputs": [],
   "source": [
    "doc.sentences[0].dependencies"
   ]
  },
  {
   "cell_type": "markdown",
   "metadata": {
    "id": "Lta53q2uRrws"
   },
   "source": [
    "[Página de Universal Dependencies](https://universaldependencies.org/format.html)"
   ]
  }
 ],
 "metadata": {
  "colab": {
   "provenance": []
  },
  "kernelspec": {
   "display_name": "Python 3 (ipykernel)",
   "language": "python",
   "name": "python3"
  },
  "language_info": {
   "codemirror_mode": {
    "name": "ipython",
    "version": 3
   },
   "file_extension": ".py",
   "mimetype": "text/x-python",
   "name": "python",
   "nbconvert_exporter": "python",
   "pygments_lexer": "ipython3",
   "version": "3.8.10"
  }
 },
 "nbformat": 4,
 "nbformat_minor": 1
}
