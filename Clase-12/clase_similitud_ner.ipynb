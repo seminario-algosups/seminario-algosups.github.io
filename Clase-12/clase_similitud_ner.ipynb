{
 "cells": [
  {
   "cell_type": "markdown",
   "id": "c40cef43",
   "metadata": {},
   "source": [
    "# Clase: Similitud Semántica y Sistemas de Anotación NER\n",
    "\n",
    "Esta notebook cubre los siguientes puntos:\n",
    "\n",
    "**5.c.i)** Armado de un _dataset_ con oraciones.  \n",
    "**5.c.ii)** Métodos de medición de similitud semántica:  \n",
    "\n",
    "&nbsp;&nbsp;• Similitud coseno (TF‑IDF)  \n",
    "&nbsp;&nbsp;• Similitud por presencia de tokens (Jaccard)  \n",
    "&nbsp;&nbsp;• Word Emebddings  \n",
    "&nbsp;&nbsp;    • Word2Vec (vectores de palabras)  \n",
    "&nbsp;&nbsp;    • FastText (sub‑word embeddings)  \n",
    "\n",
    "**5.b.i)** Sistemas de anotación: BIO / BILOU (con mención a BOU).  \n",
    "**5.b.ii)** NER con **spaCy** y **Stanza**, y una demo básica de extracción de relaciones.\n",
    "\n",
    "---\n"
   ]
  },
  {
   "cell_type": "markdown",
   "id": "4cd91145",
   "metadata": {},
   "source": [
    "\n"
   ]
  },
  {
   "cell_type": "code",
   "execution_count": null,
   "id": "23ce3a43",
   "metadata": {},
   "outputs": [],
   "source": [
    "import pandas as pd\n",
    "\n",
    "\n",
    "sentences = [\n",
    "\"La inteligencia artificial está transformando la industria del software.\",\n",
    "\"La IA revolucionará la asistencia médica en los próximos años.\",\n",
    "\"Los avances en inteligencia artificial y aprendizaje automático impulsan nuevas aplicaciones.\",\n",
    "\"Los goles de Lionel Messi llevaron al equipo a la victoria.\",\n",
    "\"Las estrategias defensivas del fútbol moderno requieren comunicación constante.\",\n",
    "\"El equipo de fútbol ganó el campeonato después de un partido intenso.\"\n",
    "]\n",
    "df = pd.DataFrame(sentences, columns=[\"text\"])\n"
   ]
  },
  {
   "cell_type": "markdown",
   "id": "c7666a96",
   "metadata": {},
   "source": [
    "## 2. Métodos de medición de similitud semántica (5.c.ii)\n",
    "\n",
    "Veremos cuatro enfoques:\n",
    "\n",
    "1. **Similitud coseno** entre vectores TF‑IDF.  \n",
    "2. **Similitud Jaccard** basada en presencia/ausencia de tokens (bolsa de palabras binaria).  \n",
    "3. **Word2Vec** – calculando la similitud promedio de vectores de palabras (usaremos `es_core_news_md`).  \n",
    "4. **FastText** – similar al anterior, aprovechando sub‑palabras (opcional si descargas un modelo).\n",
    "\n",
    "Cada bloque compara la primera oración con el resto, a modo de ejemplo.\n"
   ]
  },
  {
   "cell_type": "code",
   "execution_count": 16,
   "id": "e29ff308",
   "metadata": {},
   "outputs": [
    {
     "data": {
      "text/html": [
       "<div>\n",
       "<style scoped>\n",
       "    .dataframe tbody tr th:only-of-type {\n",
       "        vertical-align: middle;\n",
       "    }\n",
       "\n",
       "    .dataframe tbody tr th {\n",
       "        vertical-align: top;\n",
       "    }\n",
       "\n",
       "    .dataframe thead th {\n",
       "        text-align: right;\n",
       "    }\n",
       "</style>\n",
       "<table border=\"1\" class=\"dataframe\">\n",
       "  <thead>\n",
       "    <tr style=\"text-align: right;\">\n",
       "      <th></th>\n",
       "      <th>oracion</th>\n",
       "      <th>sim_coseno</th>\n",
       "    </tr>\n",
       "  </thead>\n",
       "  <tbody>\n",
       "    <tr>\n",
       "      <th>0</th>\n",
       "      <td>La inteligencia artificial está transformando ...</td>\n",
       "      <td>1.000000</td>\n",
       "    </tr>\n",
       "    <tr>\n",
       "      <th>1</th>\n",
       "      <td>La inteligencia artificial revolucionará la as...</td>\n",
       "      <td>0.176353</td>\n",
       "    </tr>\n",
       "    <tr>\n",
       "      <th>2</th>\n",
       "      <td>Los avances en inteligencia artificial y apren...</td>\n",
       "      <td>0.163190</td>\n",
       "    </tr>\n",
       "    <tr>\n",
       "      <th>3</th>\n",
       "      <td>Los goles de Lionel Messi llevaron al equipo a...</td>\n",
       "      <td>0.000000</td>\n",
       "    </tr>\n",
       "    <tr>\n",
       "      <th>4</th>\n",
       "      <td>Las estrategias defensivas del fútbol moderno ...</td>\n",
       "      <td>0.000000</td>\n",
       "    </tr>\n",
       "  </tbody>\n",
       "</table>\n",
       "</div>"
      ],
      "text/plain": [
       "                                             oracion  sim_coseno\n",
       "0  La inteligencia artificial está transformando ...    1.000000\n",
       "1  La inteligencia artificial revolucionará la as...    0.176353\n",
       "2  Los avances en inteligencia artificial y apren...    0.163190\n",
       "3  Los goles de Lionel Messi llevaron al equipo a...    0.000000\n",
       "4  Las estrategias defensivas del fútbol moderno ...    0.000000"
      ]
     },
     "execution_count": 16,
     "metadata": {},
     "output_type": "execute_result"
    }
   ],
   "source": [
    "from sklearn.feature_extraction.text import TfidfVectorizer\n",
    "from sklearn.metrics.pairwise import cosine_similarity\n",
    "\n",
    "stopwords = ['de', 'la', 'y', 'en', 'a', 'el', 'que', 'los', 'del', 'con', 'por', 'un', 'una', 'me', 'fue', 'tan', 'muy', 'este', 'es', 'para', 'se', 'lo', 'como', 'al', 'si', 'con', 'su', 'misma']\n",
    "\n",
    "tfidf = TfidfVectorizer(stop_words=stopwords)\n",
    "X = tfidf.fit_transform(df['text'])\n",
    "\n",
    "# Similitud coseno respecto a la primera oración\n",
    "cosine_scores = cosine_similarity(X[0], X).flatten()\n",
    "pd.DataFrame({'oracion': df['text'], 'sim_coseno': cosine_scores}).sort_values('sim_coseno', ascending=False).head(5)\n"
   ]
  },
  {
   "cell_type": "markdown",
   "id": "52eb6d79",
   "metadata": {},
   "source": [
    "### Indice Jaccard"
   ]
  },
  {
   "cell_type": "markdown",
   "id": "8fd5d1c2",
   "metadata": {},
   "source": [
    "La **similitud de Jaccard** entre dos conjuntos \\(A\\) y \\(B\\) se define como\n",
    "\n",
    "$$\n",
    "\\text{Jaccard}(A,B) = \\frac{|A \\cap B|}{|A \\cup B|}\n",
    "$$\n",
    "\n",
    "ddonde  \n",
    "\n",
    "* $\\displaystyle \\left| A \\cap B \\right|$ — **número de elementos comunes** (intersección)  \n",
    "* $\\displaystyle \\left| A \\cup B \\right|$ — **número total de elementos únicos** presentes en al menos uno de los conjuntos (unión)"
   ]
  },
  {
   "cell_type": "markdown",
   "id": "ae77eedb",
   "metadata": {},
   "source": [
    "### Ejemplo paso a paso\n",
    "\n",
    "Supongamos dos oraciones tokenizadas (sin *stop-words*):\n",
    "\n",
    "| Oración | Tokens |\n",
    "|---------|--------|\n",
    "| **A**: “La inteligencia artificial avanza rápido” | { inteligencia, artificial, avanza, rápido } |\n",
    "| **B**: “Los avances en inteligencia artificial son impresionantes” | { avances, inteligencia, artificial, impresionantes } |\n",
    "\n",
    "---\n",
    "**Intersección**\n",
    "\n",
    "$$\n",
    "A \\cap B \\;=\\; \\{\\textit{inteligencia},\\ \\textit{artificial}\\}\n",
    "$$\n",
    "\n",
    "$$\n",
    "\\bigl|A \\cap B\\bigr| \\;=\\; 2\n",
    "$$\n",
    "**Unión**\n",
    "\n",
    "$$\n",
    "A \\cup B = \\{\\textit{inteligencia},\\ \\textit{artificial},\\ \\textit{avanza},\\ \\textit{rápido},\\ \\textit{avances},\\ \\textit{impresionantes}\\}\n",
    "$$\n",
    "\n",
    "$$\n",
    "\\bigl|A \\cup B\\bigr| = 6\n",
    "$$\n",
    "\n",
    "**Cálculo**\n",
    "\n",
    "$$\n",
    "J(A,B)= \\frac{\\bigl|A \\cap B\\bigr|}{\\bigl|A \\cup B\\bigr|}= \\frac{2}{6}\\approx 0.33\n",
    "$$\n",
    "\n",
    "La similitud de Jaccard indica que las frases comparten aproximadamente un **tercio** de su vocabulario “informativo”."
   ]
  },
  {
   "cell_type": "code",
   "execution_count": 18,
   "id": "6bc442d6",
   "metadata": {},
   "outputs": [
    {
     "data": {
      "text/html": [
       "<div>\n",
       "<style scoped>\n",
       "    .dataframe tbody tr th:only-of-type {\n",
       "        vertical-align: middle;\n",
       "    }\n",
       "\n",
       "    .dataframe tbody tr th {\n",
       "        vertical-align: top;\n",
       "    }\n",
       "\n",
       "    .dataframe thead th {\n",
       "        text-align: right;\n",
       "    }\n",
       "</style>\n",
       "<table border=\"1\" class=\"dataframe\">\n",
       "  <thead>\n",
       "    <tr style=\"text-align: right;\">\n",
       "      <th></th>\n",
       "      <th>oracion</th>\n",
       "      <th>sim_jaccard</th>\n",
       "    </tr>\n",
       "  </thead>\n",
       "  <tbody>\n",
       "    <tr>\n",
       "      <th>0</th>\n",
       "      <td>La inteligencia artificial está transformando ...</td>\n",
       "      <td>1.000000</td>\n",
       "    </tr>\n",
       "    <tr>\n",
       "      <th>1</th>\n",
       "      <td>La inteligencia artificial revolucionará la as...</td>\n",
       "      <td>0.250000</td>\n",
       "    </tr>\n",
       "    <tr>\n",
       "      <th>2</th>\n",
       "      <td>Los avances en inteligencia artificial y apren...</td>\n",
       "      <td>0.111111</td>\n",
       "    </tr>\n",
       "    <tr>\n",
       "      <th>4</th>\n",
       "      <td>Las estrategias defensivas del fútbol moderno ...</td>\n",
       "      <td>0.058824</td>\n",
       "    </tr>\n",
       "    <tr>\n",
       "      <th>3</th>\n",
       "      <td>Los goles de Lionel Messi llevaron al equipo a...</td>\n",
       "      <td>0.052632</td>\n",
       "    </tr>\n",
       "    <tr>\n",
       "      <th>5</th>\n",
       "      <td>El equipo de fútbol ganó el campeonato después...</td>\n",
       "      <td>0.000000</td>\n",
       "    </tr>\n",
       "  </tbody>\n",
       "</table>\n",
       "</div>"
      ],
      "text/plain": [
       "                                             oracion  sim_jaccard\n",
       "0  La inteligencia artificial está transformando ...     1.000000\n",
       "1  La inteligencia artificial revolucionará la as...     0.250000\n",
       "2  Los avances en inteligencia artificial y apren...     0.111111\n",
       "4  Las estrategias defensivas del fútbol moderno ...     0.058824\n",
       "3  Los goles de Lionel Messi llevaron al equipo a...     0.052632\n",
       "5  El equipo de fútbol ganó el campeonato después...     0.000000"
      ]
     },
     "execution_count": 18,
     "metadata": {},
     "output_type": "execute_result"
    }
   ],
   "source": [
    "import numpy as np\n",
    "\n",
    "def jaccard_similarity(a, b):\n",
    "    set_a, set_b = set(a.split()), set(b.split())\n",
    "    inter = set_a & set_b\n",
    "    union = set_a | set_b\n",
    "    return len(inter) / len(union)\n",
    "\n",
    "jaccard_scores = df['text'].apply(lambda x: jaccard_similarity(df['text'][0], x))\n",
    "pd.DataFrame({'oracion': df['text'], 'sim_jaccard': jaccard_scores}).sort_values('sim_jaccard', ascending=False).head(6)\n"
   ]
  },
  {
   "cell_type": "code",
   "execution_count": 21,
   "id": "e44d36fa",
   "metadata": {},
   "outputs": [
    {
     "name": "stdout",
     "output_type": "stream",
     "text": [
      "Collecting es-core-news-md==3.8.0\n",
      "  Downloading https://github.com/explosion/spacy-models/releases/download/es_core_news_md-3.8.0/es_core_news_md-3.8.0-py3-none-any.whl (42.3 MB)\n",
      "\u001b[2K     \u001b[90m━━━━━━━━━━━━━━━━━━━━━━━━━━━━━━━━━━━━━━━━\u001b[0m \u001b[32m42.3/42.3 MB\u001b[0m \u001b[31m18.5 MB/s\u001b[0m eta \u001b[36m0:00:00\u001b[0m00:01\u001b[0m00:01\u001b[0m\n",
      "\u001b[?25hInstalling collected packages: es-core-news-md\n",
      "Successfully installed es-core-news-md-3.8.0\n",
      "\u001b[38;5;2m✔ Download and installation successful\u001b[0m\n",
      "You can now load the package via spacy.load('es_core_news_md')\n"
     ]
    }
   ],
   "source": [
    "!python -m spacy download es_core_news_md"
   ]
  },
  {
   "cell_type": "code",
   "execution_count": 24,
   "id": "19b560cb",
   "metadata": {},
   "outputs": [
    {
     "data": {
      "text/html": [
       "<div>\n",
       "<style scoped>\n",
       "    .dataframe tbody tr th:only-of-type {\n",
       "        vertical-align: middle;\n",
       "    }\n",
       "\n",
       "    .dataframe tbody tr th {\n",
       "        vertical-align: top;\n",
       "    }\n",
       "\n",
       "    .dataframe thead th {\n",
       "        text-align: right;\n",
       "    }\n",
       "</style>\n",
       "<table border=\"1\" class=\"dataframe\">\n",
       "  <thead>\n",
       "    <tr style=\"text-align: right;\">\n",
       "      <th></th>\n",
       "      <th>oracion</th>\n",
       "      <th>sim_word2vec</th>\n",
       "    </tr>\n",
       "  </thead>\n",
       "  <tbody>\n",
       "    <tr>\n",
       "      <th>0</th>\n",
       "      <td>La inteligencia artificial está transformando ...</td>\n",
       "      <td>1.000000</td>\n",
       "    </tr>\n",
       "    <tr>\n",
       "      <th>1</th>\n",
       "      <td>La inteligencia artificial revolucionará la as...</td>\n",
       "      <td>0.845334</td>\n",
       "    </tr>\n",
       "    <tr>\n",
       "      <th>2</th>\n",
       "      <td>Los avances en inteligencia artificial y apren...</td>\n",
       "      <td>0.505219</td>\n",
       "    </tr>\n",
       "    <tr>\n",
       "      <th>4</th>\n",
       "      <td>Las estrategias defensivas del fútbol moderno ...</td>\n",
       "      <td>0.483296</td>\n",
       "    </tr>\n",
       "    <tr>\n",
       "      <th>3</th>\n",
       "      <td>Los goles de Lionel Messi llevaron al equipo a...</td>\n",
       "      <td>0.457592</td>\n",
       "    </tr>\n",
       "    <tr>\n",
       "      <th>5</th>\n",
       "      <td>El equipo de fútbol ganó el campeonato después...</td>\n",
       "      <td>0.414953</td>\n",
       "    </tr>\n",
       "  </tbody>\n",
       "</table>\n",
       "</div>"
      ],
      "text/plain": [
       "                                             oracion  sim_word2vec\n",
       "0  La inteligencia artificial está transformando ...      1.000000\n",
       "1  La inteligencia artificial revolucionará la as...      0.845334\n",
       "2  Los avances en inteligencia artificial y apren...      0.505219\n",
       "4  Las estrategias defensivas del fútbol moderno ...      0.483296\n",
       "3  Los goles de Lionel Messi llevaron al equipo a...      0.457592\n",
       "5  El equipo de fútbol ganó el campeonato después...      0.414953"
      ]
     },
     "execution_count": 24,
     "metadata": {},
     "output_type": "execute_result"
    }
   ],
   "source": [
    "import spacy, pathlib, subprocess, sys\n",
    "\n",
    "# Asegurate de tener instalado el modelo con: python -m spacy download es_core_news_md\n",
    "\n",
    "nlp = spacy.load('es_core_news_md')\n",
    "\n",
    "def doc_vector(text):\n",
    "    doc = nlp(text)\n",
    "    return doc.vector\n",
    "\n",
    "\n",
    "vecs = df['text'].apply(doc_vector).tolist()\n",
    "matrix = np.vstack(vecs)\n",
    "w2v_scores = cosine_similarity([matrix[0]], matrix).flatten()\n",
    "pd.DataFrame({'oracion': df['text'], 'sim_word2vec': w2v_scores}).sort_values('sim_word2vec', ascending=False).head(6)\n"
   ]
  },
  {
   "cell_type": "code",
   "execution_count": null,
   "id": "3144c943",
   "metadata": {},
   "outputs": [],
   "source": [
    "# ---- FastText (opcional) ----\n",
    "# Este bloque descarga un modelo FastText de 1M dimensiones. Puede tardar y consumir RAM.\n",
    "# from gensim.models.fasttext import load_facebook_model\n",
    "# model = load_facebook_model('cc.es.300.bin')\n",
    "# def ft_sentence_vector(text):\n",
    "#     tokens = text.split()\n",
    "#     vecs = [model.wv[word] for word in tokens if word in model.wv]\n",
    "#     return np.mean(vecs, axis=0) if vecs else np.zeros(model.vector_size)\n",
    "# ft_vecs = df['texto'].apply(ft_sentence_vector).tolist()\n",
    "# ft_matrix = np.vstack(ft_vecs)\n",
    "# ft_scores = cosine_similarity([ft_matrix[0]], ft_matrix).flatten()\n",
    "# pd.DataFrame({'oracion': df['texto'], 'sim_fasttext': ft_scores}).sort_values('sim_fasttext', ascending=False).head(6)\n",
    "# print(\"Consulta comentada: descomenta si tienes un modelo FastText descargado.\")\n"
   ]
  },
  {
   "cell_type": "markdown",
   "id": "962efabe",
   "metadata": {},
   "source": [
    "## Entities y NER\n",
    "\n",
    "### Entidades"
   ]
  },
  {
   "cell_type": "markdown",
   "id": "887844b7",
   "metadata": {},
   "source": [
    "## 3. Sistemas de anotación BIO / BILOU (5.b.i)\n",
    "\n",
    "En **NLP** se usan esquemas que indican qué tokens pertenecen a entidades nombradas.\n",
    "\n",
    "| Esquema | Descripción | Ejemplo (`ORG` = *Apple*) |\n",
    "|---------|-------------|---------------------------|\n",
    "| **BIO** | **B**egin, **I**nside, **O**utside | Apple = **B-ORG**, Inc. = **I-ORG** |\n",
    "| **BILOU** | **B**egin, **I**nside, **L**ast, **O**utside, **U**nit (entidad de un solo token) | Apple (**U-ORG**) / University of California = B-ORG I-ORG L-ORG |\n",
    "| **BOU** | Variante simplificada: **B**egin, **O**utside, **U**nit | (poco usada hoy, incluida por completitud) | Apple (**U-ORG**) |\n",
    "\n",
    "A continuación generamos etiquetas BIO y BILOU para nuestras oraciones usando *spaCy*.\n"
   ]
  },
  {
   "cell_type": "code",
   "execution_count": null,
   "id": "ebe35bd6",
   "metadata": {},
   "outputs": [
    {
     "name": "stdout",
     "output_type": "stream",
     "text": [
      "Apple        B-ORG    B-ORG\n",
      "Inc          L-ORG    I-ORG\n",
      ".            O        O\n",
      "lanzó        O        O\n",
      "el           O        O\n",
      "nuevo        O        O\n",
      "iPhone       U-MISC   B-MISC\n",
      "en           O        O\n",
      "California   U-LOC    B-LOC\n",
      ".            O        O\n"
     ]
    }
   ],
   "source": [
    "from spacy.training import offsets_to_biluo_tags\n",
    "\n",
    "\n",
    "texto = \"Apple Inc. lanzó el nuevo iPhone en California.\"\n",
    "doc = nlp(texto)\n",
    "\n",
    "# Obtenén spans de entidades [(start_char, end_char, label), ...]\n",
    "ents_offsets = [(ent.start_char, ent.end_char, ent.label_) for ent in doc.ents]\n",
    "biluo_tags = offsets_to_biluo_tags(doc, ents_offsets)\n",
    "bio_tags = [tag.replace('L-', 'I-').replace('U-', 'B-') for tag in biluo_tags]\n",
    "\n",
    "for token, biluo, bio in zip(doc, biluo_tags, bio_tags):\n",
    "    print(f\"{token.text:<12} {biluo:<8} {bio}\")\n"
   ]
  },
  {
   "cell_type": "markdown",
   "id": "ce09c054",
   "metadata": {},
   "source": [
    "## 4. NER con spaCy + Extracción de relaciones (5.b.ii)\n",
    "\n",
    "A continuación comparamos los *pipelines* de reconocimiento de entidades.\n"
   ]
  },
  {
   "cell_type": "code",
   "execution_count": null,
   "id": "29f05767",
   "metadata": {},
   "outputs": [
    {
     "name": "stdout",
     "output_type": "stream",
     "text": [
      "spaCy: [('Barcelona FC', 'ORG'), ('Lionel Messi', 'PER')]\n",
      "SVO: [('Barcelona', 'fichó', 'Lionel')]\n"
     ]
    }
   ],
   "source": [
    "\n",
    "doc = nlp(\"Barcelona FC fichó a Lionel Messi en 2003.\")\n",
    "print(\"spaCy:\", [(ent.text, ent.label_) for ent in doc.ents])\n",
    "\n",
    "def extract_svo(doc):\n",
    "    svos = []\n",
    "    for token in doc:\n",
    "        if token.dep_ == \"ROOT\":\n",
    "            subj = [w for w in token.lefts if w.dep_.startswith(\"nsubj\")]\n",
    "            obj  = [w for w in token.rights if w.dep_.startswith((\"dobj\", \"obj\"))]\n",
    "            if subj and obj:\n",
    "                svos.append((subj[0].text, token.text, obj[0].text))\n",
    "    return svos\n",
    "\n",
    "\n",
    "print(\"SVO:\", extract_svo(doc))\n"
   ]
  },
  {
   "cell_type": "code",
   "execution_count": 34,
   "id": "e868f3f2",
   "metadata": {},
   "outputs": [],
   "source": [
    "\n",
    "def _span_for_ent_token(token):\n",
    "    \"\"\"Devuelve el texto completo de la entidad que contiene al token\n",
    "       o None si el token no pertenece a ninguna entidad.\"\"\"\n",
    "    if token.ent_type_ == \"\":\n",
    "        return None\n",
    "    for ent in token.doc.ents:\n",
    "        if ent.start <= token.i < ent.end:\n",
    "            return ent.text\n",
    "    return None\n",
    "\n",
    "def _expand_to_np(token):\n",
    "    \"\"\"Devuelve el texto del sintagma nominal gobernado por el token.\"\"\"\n",
    "    subtree = list(token.subtree)\n",
    "    left   = subtree[0].i\n",
    "    right  = subtree[-1].i + 1\n",
    "    return token.doc[left:right].text\n",
    "\n",
    "def extract_svo_ent(doc):\n",
    "    svos = []\n",
    "    for root in doc:\n",
    "        if root.dep_ == \"ROOT\":\n",
    "            subjs = [w for w in root.lefts  if w.dep_.startswith(\"nsubj\")]\n",
    "            objs  = [w for w in root.rights if w.dep_.startswith((\"dobj\", \"obj\"))]\n",
    "            if subjs and objs:\n",
    "                def full_phrase(tok):\n",
    "                    # 1) usa la entidad completa si existe\n",
    "                    span = _span_for_ent_token(tok)\n",
    "                    if span:\n",
    "                        return span\n",
    "                    # 2) si no, usa el sintagma nominal\n",
    "                    return _expand_to_np(tok)\n",
    "                svos.append((full_phrase(subjs[0]),\n",
    "                              root.lemma_,                # verbo en lema\n",
    "                              full_phrase(objs[0])))\n",
    "    return svos\n",
    "\n"
   ]
  },
  {
   "cell_type": "code",
   "execution_count": 35,
   "id": "155ee938",
   "metadata": {},
   "outputs": [
    {
     "name": "stdout",
     "output_type": "stream",
     "text": [
      "spaCy: [('Barcelona FC', 'ORG'), ('Lionel Messi', 'PER')]\n",
      "SVO: [('Barcelona FC', 'fichar', 'Lionel Messi')]\n"
     ]
    }
   ],
   "source": [
    "print(\"spaCy:\", [(ent.text, ent.label_) for ent in doc.ents])\n",
    "print(\"SVO:\", extract_svo_ent(doc))"
   ]
  },
  {
   "cell_type": "markdown",
   "id": "d317f7a2",
   "metadata": {},
   "source": [
    "---\n",
    "\n",
    "### Conclusiones\n",
    "\n",
    "* Hemos creado un dataset pequeño y probado varias métricas de similitud.  \n",
    "* Vimos cómo funcionan los esquemas de anotación y aplicamos **spaCy** y **Stanza** para NER.  \n",
    "* La extracción de relaciones se ilustró con un sencillo *pattern S‑V‑O*.  \n",
    "\n",
    "**Próximos pasos sugeridos**  \n",
    "\n",
    "1. Ampliar el dataset y comparar correlaciones entre las métricas.  \n",
    "2. Entrenar un clasificador con embeddings promedio y probar su desempeño.  \n",
    "3. Probar `spacy-extractruler` o librerías específicas de RE (Relation Extraction) como `spacy-relation-extractor`.  \n",
    "\n",
    "¡Éxitos en tu estudio!"
   ]
  }
 ],
 "metadata": {
  "kernelspec": {
   "display_name": ".venv",
   "language": "python",
   "name": "python3"
  },
  "language_info": {
   "codemirror_mode": {
    "name": "ipython",
    "version": 3
   },
   "file_extension": ".py",
   "mimetype": "text/x-python",
   "name": "python",
   "nbconvert_exporter": "python",
   "pygments_lexer": "ipython3",
   "version": "3.13.3"
  }
 },
 "nbformat": 4,
 "nbformat_minor": 5
}
