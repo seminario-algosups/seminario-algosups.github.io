{
 "cells": [
  {
   "cell_type": "markdown",
   "id": "c40cef43",
   "metadata": {},
   "source": [
    "# Clase 12: Similitud Semántica y Sistemas de Anotación NER\n",
    "\n",
    "Esta notebook cubre los siguientes puntos:\n",
    "\n",
    "**5.c.ii)** Métodos de medición de similitud semántica:  \n",
    "\n",
    "&nbsp;&nbsp;• Similitud por presencia de tokens (Jaccard)   \n",
    "&nbsp;&nbsp;• Similitud coseno (TF‑IDF)    \n",
    "&nbsp;&nbsp;• Word Emebddings  \n",
    "&nbsp;&nbsp;    • Word2Vec (vectores de palabras)  \n",
    "&nbsp;&nbsp;    • FastText (sub‑word embeddings)  \n",
    "\n",
    "**5.b.i)** Sistemas de anotación: BIO / BILOU (con mención a BOU).  \n",
    "**5.b.ii)** NER con **spaCy** y **Stanza**, y una demo básica de extracción de relaciones.\n",
    "\n",
    "---\n"
   ]
  },
  {
   "cell_type": "markdown",
   "id": "4cd91145",
   "metadata": {},
   "source": [
    "## Definición de un dataset de prueba\n"
   ]
  },
  {
   "cell_type": "code",
   "execution_count": 25,
   "id": "23ce3a43",
   "metadata": {},
   "outputs": [],
   "source": [
    "import pandas as pd\n",
    "\n",
    "\n",
    "sentences = [\n",
    "    \"La inteligencia artificial está transformando la industria del software.\",\n",
    "    \"La IA revolucionará la asistencia médica en los próximos años.\",\n",
    "    \"Los avances en Inteligencia Artificial revolucionaron la detección de patologías en informes médicos.\",\n",
    "    \"Los goles de Lionel Messi llevaron al equipo a la victoria.\",\n",
    "    \"Las estrategias defensivas del fútbol moderno requieren comunicación constante.\",\n",
    "    \"El equipo de fútbol ganó el campeonato después de un partido intenso.\"\n",
    "]\n",
    "df = pd.DataFrame(sentences, columns=[\"text\"])\n"
   ]
  },
  {
   "cell_type": "markdown",
   "id": "c7666a96",
   "metadata": {},
   "source": [
    "## Métodos de medición de similitud semántica\n",
    "\n",
    "Veremos cuatro enfoques:\n",
    "\n",
    "1. **Similitud coseno** entre vectores TF‑IDF.  \n",
    "2. **Similitud Jaccard** basada en presencia/ausencia de tokens (bolsa de palabras binaria).  \n",
    "3. **Word2Vec** – calculando la similitud promedio de vectores de palabras (usaremos `es_core_news_md`).  \n",
    "4. **FastText** – similar al anterior, aprovechando sub‑palabras (opcional si descargas un modelo).\n"
   ]
  },
  {
   "cell_type": "markdown",
   "id": "52eb6d79",
   "metadata": {},
   "source": [
    "### Indice Jaccard"
   ]
  },
  {
   "cell_type": "markdown",
   "id": "8fd5d1c2",
   "metadata": {},
   "source": [
    "La **similitud de Jaccard** entre dos conjuntos \\(A\\) y \\(B\\) se define como\n",
    "\n",
    "$$\n",
    "\\text{Jaccard}(A,B) = \\frac{|A \\cap B|}{|A \\cup B|}\n",
    "$$\n",
    "\n",
    "ddonde  \n",
    "\n",
    "* $\\displaystyle \\left| A \\cap B \\right|$ — **número de elementos comunes** (intersección)  \n",
    "* $\\displaystyle \\left| A \\cup B \\right|$ — **número total de elementos únicos** presentes en al menos uno de los conjuntos (unión)"
   ]
  },
  {
   "cell_type": "markdown",
   "id": "ae77eedb",
   "metadata": {},
   "source": [
    "\n",
    "Supongamos dos oraciones tokenizadas (sin *stop-words*):\n",
    "\n",
    "| Oración | Tokens |\n",
    "|---------|--------|\n",
    "| **A**: “La inteligencia artificial avanza rápido” | { inteligencia, artificial, avanza, rápido } |\n",
    "| **B**: “Los avances en inteligencia artificial son impresionantes” | { avances, inteligencia, artificial, impresionantes } |\n",
    "\n",
    "---\n",
    "**Intersección**\n",
    "\n",
    "$$\n",
    "A \\cap B \\;=\\; \\{\\textit{inteligencia},\\ \\textit{artificial}\\}\n",
    "$$\n",
    "\n",
    "$$\n",
    "\\bigl|A \\cap B\\bigr| \\;=\\; 2\n",
    "$$\n",
    "**Unión**\n",
    "\n",
    "$$\n",
    "A \\cup B = \\{\\textit{inteligencia},\\ \\textit{artificial},\\ \\textit{avanza},\\ \\textit{rápido},\\ \\textit{avances},\\ \\textit{impresionantes}\\}\n",
    "$$\n",
    "\n",
    "$$\n",
    "\\bigl|A \\cup B\\bigr| = 6\n",
    "$$\n",
    "\n",
    "**Cálculo**\n",
    "\n",
    "$$\n",
    "J(A,B)= \\frac{\\bigl|A \\cap B\\bigr|}{\\bigl|A \\cup B\\bigr|}= \\frac{2}{6}\\approx 0.33\n",
    "$$\n",
    "\n",
    "La similitud de Jaccard indica que las frases comparten aproximadamente un **tercio** de su vocabulario “informativo”."
   ]
  },
  {
   "cell_type": "code",
   "execution_count": 26,
   "id": "6bc442d6",
   "metadata": {},
   "outputs": [
    {
     "data": {
      "text/html": [
       "<div>\n",
       "<style scoped>\n",
       "    .dataframe tbody tr th:only-of-type {\n",
       "        vertical-align: middle;\n",
       "    }\n",
       "\n",
       "    .dataframe tbody tr th {\n",
       "        vertical-align: top;\n",
       "    }\n",
       "\n",
       "    .dataframe thead th {\n",
       "        text-align: right;\n",
       "    }\n",
       "</style>\n",
       "<table border=\"1\" class=\"dataframe\">\n",
       "  <thead>\n",
       "    <tr style=\"text-align: right;\">\n",
       "      <th></th>\n",
       "      <th>oracion</th>\n",
       "      <th>sim_jaccard</th>\n",
       "    </tr>\n",
       "  </thead>\n",
       "  <tbody>\n",
       "    <tr>\n",
       "      <th>0</th>\n",
       "      <td>La inteligencia artificial está transformando ...</td>\n",
       "      <td>1.000000</td>\n",
       "    </tr>\n",
       "    <tr>\n",
       "      <th>1</th>\n",
       "      <td>La IA revolucionará la asistencia médica en lo...</td>\n",
       "      <td>0.117647</td>\n",
       "    </tr>\n",
       "    <tr>\n",
       "      <th>4</th>\n",
       "      <td>Las estrategias defensivas del fútbol moderno ...</td>\n",
       "      <td>0.058824</td>\n",
       "    </tr>\n",
       "    <tr>\n",
       "      <th>3</th>\n",
       "      <td>Los goles de Lionel Messi llevaron al equipo a...</td>\n",
       "      <td>0.052632</td>\n",
       "    </tr>\n",
       "    <tr>\n",
       "      <th>2</th>\n",
       "      <td>Los avances en Inteligencia Artificial revoluc...</td>\n",
       "      <td>0.050000</td>\n",
       "    </tr>\n",
       "    <tr>\n",
       "      <th>5</th>\n",
       "      <td>El equipo de fútbol ganó el campeonato después...</td>\n",
       "      <td>0.000000</td>\n",
       "    </tr>\n",
       "  </tbody>\n",
       "</table>\n",
       "</div>"
      ],
      "text/plain": [
       "                                             oracion  sim_jaccard\n",
       "0  La inteligencia artificial está transformando ...     1.000000\n",
       "1  La IA revolucionará la asistencia médica en lo...     0.117647\n",
       "4  Las estrategias defensivas del fútbol moderno ...     0.058824\n",
       "3  Los goles de Lionel Messi llevaron al equipo a...     0.052632\n",
       "2  Los avances en Inteligencia Artificial revoluc...     0.050000\n",
       "5  El equipo de fútbol ganó el campeonato después...     0.000000"
      ]
     },
     "execution_count": 26,
     "metadata": {},
     "output_type": "execute_result"
    }
   ],
   "source": [
    "import numpy as np\n",
    "\n",
    "def jaccard_similarity(a, b):\n",
    "    set_a, set_b = set(a.split()), set(b.split())\n",
    "    inter = set_a & set_b\n",
    "    union = set_a | set_b\n",
    "    return len(inter) / len(union)\n",
    "\n",
    "jaccard_scores = df['text'].apply(lambda x: jaccard_similarity(df['text'][0], x))\n",
    "pd.DataFrame({'oracion': df['text'], 'sim_jaccard': jaccard_scores}).sort_values('sim_jaccard', ascending=False).head(6)\n"
   ]
  },
  {
   "cell_type": "markdown",
   "id": "60740f38",
   "metadata": {},
   "source": [
    "## Similitud de Coseno\n",
    "\n",
    "La similitud de coseno es una medida de similaridad angular que se utiliza para cuantificar la \"cercanía\" o \"parecido\" entre dos vectores no nulos en un espacio de características multidimensional. \n",
    "\n",
    "En el contexto de la lingüística computacional, estos vectores suelen representar entidades lingüísticas como palabras, documentos o incluso frases, transformadas numéricamente a través de técnicas como los embeddings o modelos de espacio vectorial de palabras (Word Embedding Models). \n",
    "\n",
    "No mide la magnitud de los vectores, sino la orientación de los mismos. \n"
   ]
  },
  {
   "cell_type": "code",
   "execution_count": 27,
   "id": "e29ff308",
   "metadata": {},
   "outputs": [
    {
     "data": {
      "text/html": [
       "<div>\n",
       "<style scoped>\n",
       "    .dataframe tbody tr th:only-of-type {\n",
       "        vertical-align: middle;\n",
       "    }\n",
       "\n",
       "    .dataframe tbody tr th {\n",
       "        vertical-align: top;\n",
       "    }\n",
       "\n",
       "    .dataframe thead th {\n",
       "        text-align: right;\n",
       "    }\n",
       "</style>\n",
       "<table border=\"1\" class=\"dataframe\">\n",
       "  <thead>\n",
       "    <tr style=\"text-align: right;\">\n",
       "      <th></th>\n",
       "      <th>oracion</th>\n",
       "      <th>sim_coseno</th>\n",
       "    </tr>\n",
       "  </thead>\n",
       "  <tbody>\n",
       "    <tr>\n",
       "      <th>0</th>\n",
       "      <td>La inteligencia artificial está transformando ...</td>\n",
       "      <td>1.000000</td>\n",
       "    </tr>\n",
       "    <tr>\n",
       "      <th>2</th>\n",
       "      <td>Los avances en Inteligencia Artificial revoluc...</td>\n",
       "      <td>0.214642</td>\n",
       "    </tr>\n",
       "    <tr>\n",
       "      <th>1</th>\n",
       "      <td>La IA revolucionará la asistencia médica en lo...</td>\n",
       "      <td>0.000000</td>\n",
       "    </tr>\n",
       "    <tr>\n",
       "      <th>3</th>\n",
       "      <td>Los goles de Lionel Messi llevaron al equipo a...</td>\n",
       "      <td>0.000000</td>\n",
       "    </tr>\n",
       "    <tr>\n",
       "      <th>4</th>\n",
       "      <td>Las estrategias defensivas del fútbol moderno ...</td>\n",
       "      <td>0.000000</td>\n",
       "    </tr>\n",
       "  </tbody>\n",
       "</table>\n",
       "</div>"
      ],
      "text/plain": [
       "                                             oracion  sim_coseno\n",
       "0  La inteligencia artificial está transformando ...    1.000000\n",
       "2  Los avances en Inteligencia Artificial revoluc...    0.214642\n",
       "1  La IA revolucionará la asistencia médica en lo...    0.000000\n",
       "3  Los goles de Lionel Messi llevaron al equipo a...    0.000000\n",
       "4  Las estrategias defensivas del fútbol moderno ...    0.000000"
      ]
     },
     "execution_count": 27,
     "metadata": {},
     "output_type": "execute_result"
    }
   ],
   "source": [
    "from sklearn.feature_extraction.text import TfidfVectorizer\n",
    "from sklearn.metrics.pairwise import cosine_similarity\n",
    "\n",
    "stopwords = ['de', 'la', 'y', 'en', 'a', 'el', 'que', 'los', 'del', 'con', 'por', 'un', 'una', 'me', 'fue', 'tan', 'muy', 'este', 'es', 'para', 'se', 'lo', 'como', 'al', 'si', 'con', 'su', 'misma']\n",
    "\n",
    "tfidf = TfidfVectorizer(stop_words=stopwords)\n",
    "X = tfidf.fit_transform(df['text'])\n",
    "\n",
    "# Similitud coseno respecto a la primera oración\n",
    "cosine_scores = cosine_similarity(X[0], X).flatten()\n",
    "pd.DataFrame({'oracion': df['text'], 'sim_coseno': cosine_scores}).sort_values('sim_coseno', ascending=False).head(5)\n"
   ]
  },
  {
   "cell_type": "markdown",
   "id": "cacf821b",
   "metadata": {},
   "source": [
    "## Word Embeddings\n",
    "*   Incrustaciones de palabras\n",
    "\n",
    "*   La idea de que \"una palabra se conoce por la compañía que mantiene\" (Firth).\n",
    "    *   Representaciones densas (vectores con muchos números no cero) que capturan el contexto y significado.\n",
    "    *   Permiten realizar operaciones semánticas: `rey - hombre + mujer ≈ reina`.\n",
    "\n",
    "*   **Word2Vec (Google):**\n",
    "    *   Modelo predictivo para aprender embeddings de palabras a partir de un corpus grande.\n",
    "    *   **Arquitecturas Principales:**\n",
    "        *   **CBOW (Continuous Bag of Words):** Predice la palabra actual basándose en su contexto.\n",
    "        *   **Skip-gram:** Predice las palabras del contexto basándose en la palabra actual.\n",
    "    *   **Similitud:** Una vez entrenado, cada palabra tiene un vector. La similitud entre palabras se calcula típicamente con similitud coseno.\n",
    "    *   **Ventajas:** Captura relaciones semánticas y sintácticas. Modelos pre-entrenados disponibles.\n",
    "    *   **Desventajas:** No maneja bien palabras fuera de vocabulario (OOV) si no están en el entrenamiento.\n",
    "\n",
    "\n",
    "*   **FastText (Facebook):**\n",
    "    *   Extensión de Word2Vec. Representa cada palabra como una bolsa de n-gramas de caracteres.\n",
    "    *   **Ejemplo:** La palabra \"manzana\" con n=3 sería `<ma, man, anz, nza, zan, ana, na>`. El vector de \"manzana\" es la suma de los vectores de estos n-gramas.\n",
    "    *   **Ventajas:**\n",
    "        *   Maneja palabras OOV a partir de la constuccion de un vector a partir de sus n-gramas.\n",
    "        *   Suele funcionar mejor para lenguajes morfológicamente ricos y para palabras raras.\n",
    "    *   **Similitud:** Similar a Word2Vec, se usa similitud coseno sobre los vectores de palabras/documentos."
   ]
  },
  {
   "cell_type": "markdown",
   "id": "5fcdb3ea",
   "metadata": {},
   "source": [
    "## Uso de vectores propios de Spacy\n",
    "\n",
    "Revisemos la documentación de spacy en relación a los modelos que usan vectores -- https://spacy.io/models/es#es_core_news_sm:~:text=lemmatizer%2C%20ner-,VECTORS,-500k%20keys%2C%2020k"
   ]
  },
  {
   "cell_type": "code",
   "execution_count": null,
   "id": "e44d36fa",
   "metadata": {},
   "outputs": [],
   "source": [
    "# !python -m spacy download es_core_news_md"
   ]
  },
  {
   "cell_type": "code",
   "execution_count": 29,
   "id": "19b560cb",
   "metadata": {},
   "outputs": [
    {
     "data": {
      "text/html": [
       "<div>\n",
       "<style scoped>\n",
       "    .dataframe tbody tr th:only-of-type {\n",
       "        vertical-align: middle;\n",
       "    }\n",
       "\n",
       "    .dataframe tbody tr th {\n",
       "        vertical-align: top;\n",
       "    }\n",
       "\n",
       "    .dataframe thead th {\n",
       "        text-align: right;\n",
       "    }\n",
       "</style>\n",
       "<table border=\"1\" class=\"dataframe\">\n",
       "  <thead>\n",
       "    <tr style=\"text-align: right;\">\n",
       "      <th></th>\n",
       "      <th>oracion</th>\n",
       "      <th>sim_word2vec</th>\n",
       "    </tr>\n",
       "  </thead>\n",
       "  <tbody>\n",
       "    <tr>\n",
       "      <th>0</th>\n",
       "      <td>La inteligencia artificial está transformando ...</td>\n",
       "      <td>1.000000</td>\n",
       "    </tr>\n",
       "    <tr>\n",
       "      <th>1</th>\n",
       "      <td>La IA revolucionará la asistencia médica en lo...</td>\n",
       "      <td>0.829453</td>\n",
       "    </tr>\n",
       "    <tr>\n",
       "      <th>2</th>\n",
       "      <td>Los avances en Inteligencia Artificial revoluc...</td>\n",
       "      <td>0.666374</td>\n",
       "    </tr>\n",
       "    <tr>\n",
       "      <th>4</th>\n",
       "      <td>Las estrategias defensivas del fútbol moderno ...</td>\n",
       "      <td>0.483296</td>\n",
       "    </tr>\n",
       "    <tr>\n",
       "      <th>3</th>\n",
       "      <td>Los goles de Lionel Messi llevaron al equipo a...</td>\n",
       "      <td>0.457592</td>\n",
       "    </tr>\n",
       "    <tr>\n",
       "      <th>5</th>\n",
       "      <td>El equipo de fútbol ganó el campeonato después...</td>\n",
       "      <td>0.414953</td>\n",
       "    </tr>\n",
       "  </tbody>\n",
       "</table>\n",
       "</div>"
      ],
      "text/plain": [
       "                                             oracion  sim_word2vec\n",
       "0  La inteligencia artificial está transformando ...      1.000000\n",
       "1  La IA revolucionará la asistencia médica en lo...      0.829453\n",
       "2  Los avances en Inteligencia Artificial revoluc...      0.666374\n",
       "4  Las estrategias defensivas del fútbol moderno ...      0.483296\n",
       "3  Los goles de Lionel Messi llevaron al equipo a...      0.457592\n",
       "5  El equipo de fútbol ganó el campeonato después...      0.414953"
      ]
     },
     "execution_count": 29,
     "metadata": {},
     "output_type": "execute_result"
    }
   ],
   "source": [
    "import spacy\n",
    "\n",
    "# Asegurate de tener instalado el modelo con: python -m spacy download es_core_news_md\n",
    "\n",
    "nlp = spacy.load('es_core_news_md')\n",
    "\n",
    "def doc_vector(text):\n",
    "    doc = nlp(text)\n",
    "    return doc.vector\n",
    "\n",
    "\n",
    "vecs = df['text'].apply(doc_vector).tolist()\n",
    "matrix = np.vstack(vecs)\n",
    "w2v_scores = cosine_similarity([matrix[0]], matrix).flatten()\n",
    "df_vec = pd.DataFrame({'oracion': df['text'], 'sim_word2vec': w2v_scores}).sort_values('sim_word2vec', ascending=False).head(6)\n",
    "df_vec"
   ]
  },
  {
   "cell_type": "code",
   "execution_count": 30,
   "id": "3144c943",
   "metadata": {},
   "outputs": [
    {
     "name": "stdout",
     "output_type": "stream",
     "text": [
      "La inteligencia artificial está transformando la industria del software.\n",
      "La IA revolucionará la asistencia médica en los próximos años.\n"
     ]
    }
   ],
   "source": [
    "print(df_vec['oracion'][0])\n",
    "print(df_vec['oracion'][1])"
   ]
  },
  {
   "cell_type": "markdown",
   "id": "962efabe",
   "metadata": {},
   "source": [
    "## Entities y NER\n",
    "\n",
    "### Entidades"
   ]
  },
  {
   "cell_type": "markdown",
   "id": "887844b7",
   "metadata": {},
   "source": [
    "## 3. Sistemas de anotación BIO / BILOU (5.b.i)\n",
    "\n",
    "En **NLP** se usan esquemas que indican qué tokens pertenecen a entidades nombradas.\n",
    "\n",
    "| Esquema | Descripción | Ejemplo (`ORG` = *Apple*) |\n",
    "|---------|-------------|---------------------------|\n",
    "| **BIO** | **B**egin, **I**nside, **O**utside | Apple = **B-ORG**, Inc. = **I-ORG** |\n",
    "| **BILOU** | **B**egin, **I**nside, **L**ast, **O**utside, **U**nit (entidad de un solo token) | Apple (**U-ORG**) / University of California = B-ORG I-ORG L-ORG |\n",
    "| **BOU** | Variante simplificada: **B**egin, **O**utside, **U**nit | (poco usada hoy, incluida por completitud) | Apple (**U-ORG**) |\n",
    "\n",
    "A continuación generamos etiquetas BIO y BILOU para nuestras oraciones usando *spaCy*.\n"
   ]
  },
  {
   "cell_type": "code",
   "execution_count": 31,
   "id": "ebe35bd6",
   "metadata": {},
   "outputs": [
    {
     "name": "stdout",
     "output_type": "stream",
     "text": [
      "Apple        B-ORG    B-ORG\n",
      "Inc          L-ORG    I-ORG\n",
      ".            O        O\n",
      "lanzó        O        O\n",
      "el           O        O\n",
      "nuevo        O        O\n",
      "iPhone       U-MISC   B-MISC\n",
      "en           O        O\n",
      "California   U-LOC    B-LOC\n",
      ".            O        O\n"
     ]
    }
   ],
   "source": [
    "from spacy.training import offsets_to_biluo_tags\n",
    "\n",
    "\n",
    "texto = \"Apple Inc. lanzó el nuevo iPhone en California.\"\n",
    "doc = nlp(texto)\n",
    "\n",
    "# Obtenén spans de entidades [(start_char, end_char, label), ...]\n",
    "ents_offsets = [(ent.start_char, ent.end_char, ent.label_) for ent in doc.ents]\n",
    "biluo_tags = offsets_to_biluo_tags(doc, ents_offsets)\n",
    "bio_tags = [tag.replace('L-', 'I-').replace('U-', 'B-') for tag in biluo_tags]\n",
    "\n",
    "for token, biluo, bio in zip(doc, biluo_tags, bio_tags):\n",
    "    print(f\"{token.text:<12} {biluo:<8} {bio}\")\n"
   ]
  },
  {
   "cell_type": "markdown",
   "id": "ce09c054",
   "metadata": {},
   "source": [
    "## 4. NER con spaCy + Extracción de relaciones (5.b.ii)\n",
    "\n",
    "A continuación comparamos los *pipelines* de reconocimiento de entidades.\n"
   ]
  },
  {
   "cell_type": "code",
   "execution_count": 32,
   "id": "29f05767",
   "metadata": {},
   "outputs": [
    {
     "name": "stdout",
     "output_type": "stream",
     "text": [
      "spaCy: [('Barcelona FC', 'ORG'), ('Lionel Messi', 'PER')]\n",
      "SVO: [('Barcelona', 'fichó', 'Lionel')]\n"
     ]
    }
   ],
   "source": [
    "\n",
    "doc = nlp(\"Barcelona FC fichó a Lionel Messi en 2003.\")\n",
    "print(\"spaCy:\", [(ent.text, ent.label_) for ent in doc.ents])\n",
    "\n",
    "def extract_svo(doc):\n",
    "    svos = []\n",
    "    for token in doc:\n",
    "        if token.dep_ == \"ROOT\":\n",
    "            subj = [w for w in token.lefts if w.dep_.startswith(\"nsubj\")]\n",
    "            obj  = [w for w in token.rights if w.dep_.startswith((\"dobj\", \"obj\"))]\n",
    "            if subj and obj:\n",
    "                svos.append((subj[0].text, token.text, obj[0].text))\n",
    "    return svos\n",
    "\n",
    "\n",
    "print(\"SVO:\", extract_svo(doc))\n"
   ]
  },
  {
   "cell_type": "code",
   "execution_count": 34,
   "id": "e868f3f2",
   "metadata": {},
   "outputs": [],
   "source": [
    "\n",
    "def _span_for_ent_token(token):\n",
    "    \"\"\"Devuelve el texto completo de la entidad que contiene al token\n",
    "       o None si el token no pertenece a ninguna entidad.\"\"\"\n",
    "    if token.ent_type_ == \"\":\n",
    "        return None\n",
    "    for ent in token.doc.ents:\n",
    "        if ent.start <= token.i < ent.end:\n",
    "            return ent.text\n",
    "    return None\n",
    "\n",
    "def _expand_to_np(token):\n",
    "    \"\"\"Devuelve el texto del sintagma nominal gobernado por el token.\"\"\"\n",
    "    subtree = list(token.subtree)\n",
    "    left   = subtree[0].i\n",
    "    right  = subtree[-1].i + 1\n",
    "    return token.doc[left:right].text\n",
    "\n",
    "def extract_svo_ent(doc):\n",
    "    svos = []\n",
    "    for root in doc:\n",
    "        if root.dep_ == \"ROOT\":\n",
    "            subjs = [w for w in root.lefts  if w.dep_.startswith(\"nsubj\")]\n",
    "            objs  = [w for w in root.rights if w.dep_.startswith((\"dobj\", \"obj\"))]\n",
    "            if subjs and objs:\n",
    "                def full_phrase(tok):\n",
    "                    # 1) usa la entidad completa si existe\n",
    "                    span = _span_for_ent_token(tok)\n",
    "                    if span:\n",
    "                        return span\n",
    "                    # 2) si no, usa el sintagma nominal\n",
    "                    return _expand_to_np(tok)\n",
    "                svos.append((full_phrase(subjs[0]),\n",
    "                              root.lemma_,                # verbo en lema\n",
    "                              full_phrase(objs[0])))\n",
    "    return svos\n",
    "\n"
   ]
  },
  {
   "cell_type": "code",
   "execution_count": 35,
   "id": "155ee938",
   "metadata": {},
   "outputs": [
    {
     "name": "stdout",
     "output_type": "stream",
     "text": [
      "spaCy: [('Barcelona FC', 'ORG'), ('Lionel Messi', 'PER')]\n",
      "SVO: [('Barcelona FC', 'fichar', 'Lionel Messi')]\n"
     ]
    }
   ],
   "source": [
    "print(\"spaCy:\", [(ent.text, ent.label_) for ent in doc.ents])\n",
    "print(\"SVO:\", extract_svo_ent(doc))"
   ]
  },
  {
   "cell_type": "markdown",
   "id": "d317f7a2",
   "metadata": {},
   "source": []
  }
 ],
 "metadata": {
  "kernelspec": {
   "display_name": ".venv",
   "language": "python",
   "name": "python3"
  },
  "language_info": {
   "codemirror_mode": {
    "name": "ipython",
    "version": 3
   },
   "file_extension": ".py",
   "mimetype": "text/x-python",
   "name": "python",
   "nbconvert_exporter": "python",
   "pygments_lexer": "ipython3",
   "version": "3.13.3"
  }
 },
 "nbformat": 4,
 "nbformat_minor": 5
}
