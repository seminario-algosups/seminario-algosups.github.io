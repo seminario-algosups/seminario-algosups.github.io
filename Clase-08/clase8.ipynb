{
 "cells": [
  {
   "cell_type": "code",
   "execution_count": null,
   "metadata": {
    "id": "dJv61-DaNxn-"
   },
   "outputs": [],
   "source": [
    "import nltk # Importa la librería NLTK\n",
    "from nltk.tag import pos_tag # Importa los paquetes de tag\n",
    "from nltk.tokenize import word_tokenize # Importa el tokenizador de nltk\n",
    "nltk.download('brown')\n",
    "nltk.download('punkt') # BA\n",
    "nltk.download('averaged_perceptron_tagger')\n",
    "nltk.download('universal_tagset')\n",
    "nltk.download('tagsets')\n",
    "nltk.download('treebank')\n",
    "from nltk.corpus import brown"
   ]
  },
  {
   "cell_type": "code",
   "execution_count": null,
   "metadata": {
    "id": "J_c1Rs9HOeeG"
   },
   "outputs": [],
   "source": [
    "# ¿Qué pasa con el español?\n",
    "sentence = \"Yo lo vi ayer en la panadería\"\n",
    "pos_tag(word_tokenize(sentence),lang='es')"
   ]
  },
  {
   "cell_type": "code",
   "execution_count": null,
   "metadata": {
    "id": "lWrkhCPSPwwc"
   },
   "outputs": [],
   "source": [
    "# ¿Existen realmente las clases de palabras?\n",
    "text = nltk.Text(word.lower() for word in nltk.corpus.brown.words())\n",
    "text.similar('run')"
   ]
  },
  {
   "cell_type": "code",
   "execution_count": null,
   "metadata": {
    "id": "n6c4VbyCP2Iq"
   },
   "outputs": [],
   "source": [
    "sentence = \"I found a crying baby in the surrounding area.\"\n",
    "#print(word_tokenize(sentence))\n",
    "pos_tag(word_tokenize(sentence))"
   ]
  },
  {
   "cell_type": "code",
   "execution_count": null,
   "metadata": {
    "id": "4AoIUn7GP6bV"
   },
   "outputs": [],
   "source": [
    "# http://www.natcorp.ox.ac.uk/docs/gramtag.html\n",
    "nltk.help.upenn_tagset()"
   ]
  },
  {
   "cell_type": "code",
   "execution_count": null,
   "metadata": {
    "id": "ssQnkBlOUZ4d"
   },
   "outputs": [],
   "source": [
    " nltk.corpus.brown.tagged_words()[20:40]"
   ]
  },
  {
   "cell_type": "markdown",
   "metadata": {
    "id": "CoIGgO_ZVwO7"
   },
   "source": [
    "Brown: Manual de anotación del corpus de Brown\n",
    "\n",
    "BNC: Manual de anotación del BNC\n",
    "\n",
    "BNC Otro manual de anotación del BNC"
   ]
  },
  {
   "cell_type": "markdown",
   "metadata": {
    "id": "nRQHIJBkVxyH"
   },
   "source": [
    "- Ver el texto de modelo en la página.\n",
    "- Crear un txt localmente (se puede hacer también en modalidad manuscrita en un cuaderno).\n",
    "- Copiar dos párrafos de una noticia cualquiera.\n",
    "- Separar los signos de puntuación.\n",
    "- Indicar los datos que se juzguen relevantes acerca de la fuente del texto anteponiendo a la línea dos numerales. Por ejemplo:\n",
    "```\n",
    "## www.unawebcualquiera.com/untextocualquieradelquesaqueeltexto\n",
    "```\n",
    "\n",
    "- Usar las categorías del tagset que se puede encontrar [aquí](http://www.natcorp.ox.ac.uk/docs/gramtag.html)\n",
    "- Agregar las categorías inmediatamente después de cada palabra usando barra inclinada para separar la palabra de la categoría.\n",
    "- En el caso de signos de puntuación pegados, separarlos.\n",
    "- Este tagset no está pensado para el español y al aplicarlo a esta lengua surgen inadecuaciones. Anotar todas las inadecuaciones que surjan y pensar posibles modificaciones al tagset para solucionarlas.\n"
   ]
  },
  {
   "cell_type": "code",
   "execution_count": null,
   "metadata": {
    "id": "FztwJa6pUl1w"
   },
   "outputs": [],
   "source": [
    "brown_news_tagged = brown.tagged_words(categories='news', tagset='universal')\n",
    "tag_fd = nltk.FreqDist(tag for (word, tag) in brown_news_tagged)\n",
    "tag_fd.most_common()"
   ]
  },
  {
   "cell_type": "code",
   "execution_count": null,
   "metadata": {
    "id": "xnBpGs7UUrar"
   },
   "outputs": [],
   "source": [
    "word_tag_pairs = nltk.bigrams(brown_news_tagged)\n",
    "noun_preceders = [a[1] for (a, b) in word_tag_pairs if b[1] == 'ADJ']\n",
    "fdist = nltk.FreqDist(noun_preceders)\n",
    "[tag for (tag, _) in fdist.most_common()]"
   ]
  },
  {
   "cell_type": "code",
   "execution_count": null,
   "metadata": {
    "id": "g6AUf90_Uxp1"
   },
   "outputs": [],
   "source": [
    "wsj = nltk.corpus.treebank.tagged_words(tagset='universal')\n",
    "word_tag_fd = nltk.FreqDist(wsj)\n",
    "[wt[0] for (wt, _) in word_tag_fd.most_common() if wt[1] == 'NOUN']"
   ]
  },
  {
   "cell_type": "code",
   "execution_count": null,
   "metadata": {
    "id": "eypKv1A6Uypz"
   },
   "outputs": [],
   "source": [
    "# Ver documentación en https://spacy.io/models/es\n",
    "!python -m spacy download es_core_news_sm\n",
    "!python -m spacy download es_core_news_md"
   ]
  },
  {
   "cell_type": "code",
   "execution_count": null,
   "metadata": {
    "id": "B2H_6evPU6bf"
   },
   "outputs": [],
   "source": [
    "import spacy\n",
    "\n",
    "nlp = spacy.load(\"es_core_news_sm\")\n",
    "sent_es = \"Yo soy aburrido\"\n",
    "doc = nlp(sent_es)\n",
    "\n",
    "for token in doc:\n",
    "    print(token.text, token.lemma_, token.pos_)\n"
   ]
  },
  {
   "cell_type": "code",
   "execution_count": null,
   "metadata": {
    "id": "9i5jKaIiU-G5"
   },
   "outputs": [],
   "source": [
    "print(*[f'word: {token.text}\\tlemma: {token.lemma_}\\tpos: {token.pos_}' for token in doc], sep='\\n')"
   ]
  },
  {
   "cell_type": "code",
   "execution_count": null,
   "metadata": {
    "id": "2eBwgHS5VBmV"
   },
   "outputs": [],
   "source": [
    "!pip install stanza"
   ]
  },
  {
   "cell_type": "code",
   "execution_count": null,
   "metadata": {
    "id": "w4DAOxLaVD9B"
   },
   "outputs": [],
   "source": [
    "import stanza\n",
    "nlp = stanza.Pipeline('en', processors='tokenize,pos')"
   ]
  },
  {
   "cell_type": "code",
   "execution_count": null,
   "metadata": {
    "id": "rBB_3_c_VHQu"
   },
   "outputs": [],
   "source": [
    "en_test_= \"Jorge Luis Borges was born in Argentina. He died in Geneva in 1986. He has writen a lots of book, but no novel.\"\n",
    "doc = nlp(en_test_)\n",
    "sent_list = [sent.text for sent in doc.sentences]\n",
    "print([f'{word.text}/{word.pos}/{word.upos}' for sent in doc.sentences for word in sent.words])\n",
    "print(*[f'word: {word.text}\\tpos: {word.pos}\\tupos: {word.upos}' for sent in doc.sentences for word in sent.words], sep='\\n')"
   ]
  },
  {
   "cell_type": "code",
   "execution_count": null,
   "metadata": {
    "id": "rDtOdm9VVMg3"
   },
   "outputs": [],
   "source": [
    "nlp = stanza.Pipeline('es', processors='tokenize,pos')"
   ]
  },
  {
   "cell_type": "code",
   "execution_count": null,
   "metadata": {
    "id": "wuOCUwH_VQap"
   },
   "outputs": [],
   "source": [
    "es_test_= \"Jorge Luis Borges nació en Argentina. Murió en Ginebra en 1986. Escribió muchos libros, pero ninguna novela.\"\n",
    "doc = nlp(es_test_)\n",
    "sent_list = [sent.text for sent in doc.sentences]\n",
    "print([f'{word.text}/{word.pos}/{word.upos}' for sent in doc.sentences for word in sent.words])\n",
    "print(*[f'word: {word.text}\\tpos: {word.pos}\\tupos: {word.upos}' for sent in doc.sentences for word in sent.words], sep='\\n')"
   ]
  },
  {
   "cell_type": "markdown",
   "metadata": {
    "id": "DuaDmIo5e_lu"
   },
   "source": [
    "Anotar dos oraciones de una noticia según la distribución que se haga en clase.\n",
    "\n",
    "Las categorías deben sacarse de [acá](https://universaldependencies.org/es/pos/index.html)"
   ]
  }
 ],
 "metadata": {
  "colab": {
   "provenance": []
  },
  "kernelspec": {
   "display_name": "Python 3 (ipykernel)",
   "language": "python",
   "name": "python3"
  },
  "language_info": {
   "codemirror_mode": {
    "name": "ipython",
    "version": 3
   },
   "file_extension": ".py",
   "mimetype": "text/x-python",
   "name": "python",
   "nbconvert_exporter": "python",
   "pygments_lexer": "ipython3",
   "version": "3.8.10"
  }
 },
 "nbformat": 4,
 "nbformat_minor": 1
}
