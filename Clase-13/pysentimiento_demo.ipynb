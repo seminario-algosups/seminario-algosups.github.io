{
 "cells": [
  {
   "cell_type": "markdown",
   "id": "1341f8b7",
   "metadata": {},
   "source": [
    "# PySentimiento: Análisis de Opinión y NLP Social Multilingüe"
   ]
  },
  {
   "cell_type": "markdown",
   "id": "4a6671da",
   "metadata": {},
   "source": [
    "\n",
    "`pysentimiento` es una biblioteca de Python que ofrece modelos preentrenados para tareas de procesamiento de lenguaje natural centradas en redes sociales. Es compatible con varios idiomas (español, inglés, portugués, italiano) y permite realizar análisis de sentimiento, detección de emociones, discurso de odio, ironía, análisis de entidades nombradas (NER), y etiquetas gramaticales (POS).\n",
    "\n",
    "A continuación, se muestran ejemplos de uso con texto en español.\n"
   ]
  },
  {
   "cell_type": "code",
   "execution_count": null,
   "id": "4f502726",
   "metadata": {},
   "outputs": [],
   "source": [
    "\n",
    "# Instalar pysentimiento (si no está instalado)\n",
    "!pip install pysentimiento\n"
   ]
  },
  {
   "cell_type": "markdown",
   "id": "065db2e4",
   "metadata": {},
   "source": [
    "## Flujo: del texto a la predicción\n",
    "\n",
    "Para entender cómo funciona internamente la herramienta, aquí se describe el pipeline típico que ocurre al llamar `analyzer.predict(text)`:\n",
    "\n",
    "### 1. Preprocesamiento\n",
    "El texto crudo se pasa primero por el preprocesador de tweets (a menos que esté deshabilitado). Este paso limpia el texto aplicando reglas como la normalización de menciones y URLs, la reducción de repeticiones de caracteres, la conversión de emojis a texto, etc. El resultado es una versión normalizada del texto de entrada.\n",
    "\n",
    "### 2. Tokenización\n",
    "El tokenizador del analizador (una subclase de `AutoTokenizer` de Hugging Face) convierte el texto preprocesado en una secuencia de tokens/IDs que el modelo Transformer puede interpretar. Esto incluye dividir el texto en subpalabras y agregar tokens especiales (como `[CLS]` y `[SEP]` para BERT, o solo tokens de inicio/fin en el caso de RoBERTa). También se realiza padding o truncamiento según la longitud máxima permitida.\n",
    "\n",
    "### 3. Inferencia del Modelo\n",
    "Los IDs de tokens se envían al modelo Transformer (que internamente es un modelo de PyTorch). Dependiendo de la tarea:\n",
    "\n",
    "- **Tareas de clasificación:** El modelo produce un conjunto de logits (puntuaciones no normalizadas) para cada clase. Por ejemplo, el modelo de sentimiento devuelve tres logits (uno por cada clase: POS, NEG, NEU).\n",
    "- **Tareas multi-etiqueta:** El modelo devuelve un logit por cada etiqueta posible (por ejemplo, tres logits para las etiquetas de discurso de odio: `hateful`, `targeted`, `aggressive`).\n",
    "- **Tareas de etiquetado secuencial (NER/POS):** Se devuelve un logit por token por cada posible etiqueta.\n",
    "\n",
    "### 4. Post-procesamiento de la Predicción\n",
    "Los logits producidos por el modelo se convierten en probabilidades:\n",
    "\n",
    "- Para clasificación de una sola etiqueta, se aplica **softmax**, y se selecciona la etiqueta con mayor probabilidad como `output`.\n",
    "- Para clasificación multi-etiqueta (como discurso de odio), se aplica **sigmoid** a cada logit, y se seleccionan las etiquetas cuya probabilidad supera un umbral (por defecto, 0.5).\n",
    "\n",
    "\n",
    "Luego, las etiquetas seleccionadas se ensamblan en un objeto 'resultado'.\n",
    "\n",
    "### 5. Formato de Salida\n",
    "El resultado se devuelve como un objeto `AnalyzerOutput` (o una lista si se procesan múltiples textos). Este objeto contiene:\n",
    "\n",
    "- `output`: la etiqueta predicha (para tareas de una sola etiqueta) o una lista de etiquetas (para tareas multi-etiqueta). En tareas secuenciales como NER o POS, puede ser una lista de anotaciones por token.\n",
    "- `probas`: un diccionario que asigna a cada etiqueta su probabilidad estimada.  \n",
    "  Por ejemplo:\n",
    "  ```python\n",
    "  {'POS': 0.998, 'NEG': 0.002, 'NEU': 0.000}\n",
    "  ```\n",
    "  para una oración claramente positiva, o:\n",
    "  ```python\n",
    "  {'hateful': 0.987, 'targeted': 0.978, 'aggressive': 0.969}\n",
    "  ```\n",
    "  ppara un texto con discurso de odio."
   ]
  },
  {
   "cell_type": "markdown",
   "id": "22b5046a",
   "metadata": {},
   "source": [
    "## Veamos algunos Ejemplos de funcionalidades\n",
    "\n",
    "Tras la instalación, el uso de la biblioteca es muy sencillo. \n",
    "\n",
    "Se crea un analizador para la tarea y el idioma de interés y, a continuación, se llama a la funcion 'predict' con nuevos textos. \n",
    "\n",
    "En este caso definimos como tarea el análisis de sentimiento y el idioma que queremos usar como español\n"
   ]
  },
  {
   "cell_type": "code",
   "execution_count": null,
   "id": "506fecff",
   "metadata": {},
   "outputs": [],
   "source": [
    "\n",
    "from pysentimiento import create_analyzer\n",
    "\n",
    "# Analizador de sentimiento en español\n",
    "sentiment_analyzer = create_analyzer(task=\"sentiment\", lang=\"es\")\n"
   ]
  },
  {
   "cell_type": "code",
   "execution_count": null,
   "id": "ebba23b2",
   "metadata": {},
   "outputs": [],
   "source": [
    "\n",
    "texto_positivo = \"Qué gran jugador es Messi\"\n",
    "texto_negativo = \"Esto es pésimo\"\n",
    "texto_neutro = \"El evento será a las 5 PM\"\n",
    "\n",
    "print(\"Positivo:\", sentiment_analyzer.predict(texto_positivo))\n",
    "print(\"Negativo:\", sentiment_analyzer.predict(texto_negativo))\n",
    "print(\"Neutro:\", sentiment_analyzer.predict(texto_neutro))\n"
   ]
  },
  {
   "cell_type": "markdown",
   "id": "a41c1159",
   "metadata": {},
   "source": [
    "## Emotion Analysis\n",
    "\n",
    "`pysentimiento` provee análisis de emociones a través de modelos pre-entrenados con los datasets de [EmoEvent](https://github.com/fmplaza/EmoEvent-multilingual-corpus/)"
   ]
  },
  {
   "cell_type": "code",
   "execution_count": null,
   "id": "f746f16e",
   "metadata": {},
   "outputs": [],
   "source": [
    "\n",
    "emotion_analyzer = create_analyzer(task=\"emotion\", lang=\"es\")\n",
    "\n",
    "print(\"Emoción:\", emotion_analyzer.predict(\"Estoy muy feliz con el resultado\"))\n"
   ]
  },
  {
   "cell_type": "markdown",
   "id": "f5da67b3",
   "metadata": {},
   "source": [
    "## Hate Speech\n",
    "Replicamos la operación pero esta ver para análissi de odio"
   ]
  },
  {
   "cell_type": "code",
   "execution_count": null,
   "id": "06713a80",
   "metadata": {},
   "outputs": [],
   "source": [
    "\n",
    "hate_analyzer = create_analyzer(task=\"hate_speech\", lang=\"es\")\n",
    "\n",
    "texto_odio = \"Vaya guarra barata y de poca monta es XXXX!\"\n",
    "print(\"Discurso de odio:\", hate_analyzer.predict(texto_odio))\n"
   ]
  },
  {
   "cell_type": "code",
   "execution_count": null,
   "id": "212b77e1",
   "metadata": {},
   "outputs": [],
   "source": [
    "\n",
    "irony_analyzer = create_analyzer(task=\"irony\", lang=\"es\")\n",
    "\n",
    "texto_ironia = \"Sí claro, como si el gobierno alguna vez resolviera algo...\"\n",
    "print(\"Ironía:\", irony_analyzer.predict(texto_ironia))\n"
   ]
  },
  {
   "cell_type": "markdown",
   "id": "81956d31",
   "metadata": {},
   "source": [
    "## Token Labeling tasks\n",
    "\n",
    "\n",
    "`pysentimiento` cuenta con analizadores para POS tagging & NER gracias al dataset multilingual [LinCE](https://ritual.uh.edu/lince/)"
   ]
  },
  {
   "cell_type": "code",
   "execution_count": null,
   "id": "7b167eae",
   "metadata": {},
   "outputs": [],
   "source": [
    "\n",
    "from pysentimiento.preprocessing import preprocess_tweet\n",
    "\n",
    "texto_tweet = \"@usuario deberías ver esto http://bit.ly/ejemplo jajajajajaja\"\n",
    "print(\"Texto original:\", texto_tweet)\n",
    "print(\"Preprocesado:\", preprocess_tweet(texto_tweet))\n"
   ]
  },
  {
   "cell_type": "code",
   "execution_count": null,
   "id": "001fa35f",
   "metadata": {},
   "outputs": [],
   "source": [
    "\n",
    "ner_analyzer = create_analyzer(task=\"ner\", lang=\"es\")\n",
    "\n",
    "print(\"Entidades nombradas:\", ner_analyzer.predict(\"Lionel Messi juega en el Inter de Miami\"))\n"
   ]
  },
  {
   "cell_type": "code",
   "execution_count": null,
   "id": "a7d4aa14",
   "metadata": {},
   "outputs": [],
   "source": [
    "\n",
    "pos_analyzer = create_analyzer(task=\"pos\", lang=\"es\")\n",
    "\n",
    "print(\"POS tagging:\", pos_analyzer.predict(\"Messi corre rápidamente con el balón\"))\n"
   ]
  },
  {
   "cell_type": "markdown",
   "id": "f8bfa55a",
   "metadata": {},
   "source": [
    "\n",
    "## 🧠 Ejercicio: Análisis de Sentimientos y Emociones en Opiniones de Usuarios\n",
    "\n",
    "### 📝 Objetivo\n",
    "Usar `pysentimiento` para analizar una serie de opiniones extraídas de redes sociales o reseñas, y comparar los resultados obtenidos con la intuición humana. Reflexionar sobre aciertos, errores y posibles fuentes de ambigüedad.\n",
    "\n",
    "### 📦 Materiales\n",
    "- Lista de 10 a 15 frases que simulen opiniones de usuarios (pueden ser reales o inventadas).\n",
    "- Un cuaderno (notebook) en Colab o Jupyter con `pysentimiento` instalado.\n",
    "\n",
    "### 🔧 Instrucciones\n",
    "\n",
    "1. **Preparación del Dataset**\n",
    "\n",
    "\n"
   ]
  },
  {
   "cell_type": "code",
   "execution_count": null,
   "id": "48b2b184",
   "metadata": {},
   "outputs": [],
   "source": [
    "opiniones = [\n",
    "       \"Me encantó la atención al cliente, volvería sin dudarlo.\",\n",
    "       \"Una pérdida de tiempo, el producto no sirve.\",\n",
    "       \"El hotel estaba bien, aunque el desayuno era mejorable.\",\n",
    "       \"No sé qué pensar, fue una experiencia rara.\",\n",
    "       \"¡Excelente servicio y muy rápido!\",\n",
    "       \"Demasiado caro para lo que ofrece.\",\n",
    "       \"No me gustó, pero entiendo que a otros sí.\",\n",
    "       \"La película fue una joya, me hizo llorar de emoción.\",\n",
    "       \"Malisimo, no lo recomiendo a nadie.\",\n",
    "       \"La app está bien diseñada, pero falla mucho.\"\n",
    "   ]\n"
   ]
  },
  {
   "cell_type": "markdown",
   "id": "3692703e",
   "metadata": {},
   "source": [
    "## 2. Predicción automática con PySentimiento\n"
   ]
  },
  {
   "cell_type": "code",
   "execution_count": null,
   "id": "e7a1fafd",
   "metadata": {},
   "outputs": [],
   "source": [
    "from pysentimiento import create_analyzer\n",
    "\n",
    "sentiment_analyzer = create_analyzer(task=\"sentiment\", lang=\"es\")\n",
    "emotion_analyzer = create_analyzer(task=\"emotion\", lang=\"es\")\n",
    "\n",
    "for frase in opiniones:\n",
    "    sentimiento = sentiment_analyzer.predict(frase)\n",
    "    emocion = emotion_analyzer.predict(frase)\n",
    "    print(f\"Frase: {frase}\")\n",
    "    print(f\"  ➤ Sentimiento: {sentimiento.output}, probabilidades: {sentimiento.probas}\")\n",
    "    print(f\"  ➤ Emoción: {emocion.output}, probabilidades: {emocion.probas}\")\n",
    "    print(\"-\" * 80)\n"
   ]
  },
  {
   "cell_type": "markdown",
   "id": "218a8495",
   "metadata": {},
   "source": [
    "### Tareas a realizar\n",
    "\n",
    "🧐 Clasificar cada frase como positiva, negativa o neutra antes de ejecutar el modelo. Luego comparalo con la predicción automática.\n",
    "\n",
    "❓ ¿Coincide tu intuición con la del modelo? ¿En qué casos no? ¿Por qué podría fallar el modelo?\n",
    "\n",
    "💡 Observar los casos donde el modelo predice neutral. ¿Te parece apropiado? ¿Qué tipo de lenguaje aparece allí?\n",
    "\n",
    "🔍 Revisar también las emociones detectadas. ¿Hay ambigüedad? ¿Captura bien la emoción dominante?\n",
    "\n",
    "🧪 Modificar algunas frases para ver cómo cambian las predicciones. Por ejemplo: \"El servicio fue increíblemente lento\" vs. \"El servicio fue lento, pero aceptable\".\n",
    "\n",
    "## Reflexión Final\n",
    "\n",
    "¿Qué fortalezas y limitaciones encontraste en el modelo?\n",
    "\n",
    "¿Qué tipos de sesgos podrían surgir si solo usamos este tipo de modelos para tomar decisiones?\n",
    "\n",
    "¿Cómo mejorarías este pipeline para un caso de uso real, como popr ej. para  monitorear opiniones sobre una marca?"
   ]
  },
  {
   "cell_type": "markdown",
   "id": "b8ecaea2",
   "metadata": {},
   "source": [
    "   \n",
    "Para más información: [https://github.com/pysentimiento/pysentimiento](https://github.com/pysentimiento/pysentimiento)\n"
   ]
  }
 ],
 "metadata": {
  "language_info": {
   "name": "python"
  }
 },
 "nbformat": 4,
 "nbformat_minor": 5
}
