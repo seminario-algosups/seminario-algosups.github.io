{
 "cells": [
  {
   "cell_type": "markdown",
   "metadata": {
    "colab_type": "text",
    "id": "view-in-github"
   },
   "source": [
    "<a href=\"https://drive.google.com/file/d/1guwe2a-cyMfmOaVHNXc7gTbJw2Rx65fR/view?usp=sharing\" target=\"_parent\"><img src=\"https://colab.research.google.com/assets/colab-badge.svg\" alt=\"Open In Colab\"/></a>"
   ]
  },
  {
   "cell_type": "markdown",
   "metadata": {
    "id": "WIfBUHkM58vC"
   },
   "source": [
    "## 📘 Introducción a la programación en Python - Parte 1\n",
    "\n",
    "Esta notebook cubre la introducción al curso, una presentación de sintaxis básica de python y su uso en google Colab"
   ]
  },
  {
   "cell_type": "markdown",
   "metadata": {
    "id": "AzWaUZsN58vD"
   },
   "source": [
    "📌 *¿Qué es programar?*\n",
    "\n",
    "**Solución de problemas:** El proceso de formular un problema, hallar la solución y expresar esa solución.\n",
    "\n",
    "\n",
    "**Programa:** Un conjunto de instrucciones que especifica una computación.\n",
    "\n",
    "\n",
    "**Algoritmo:** Un proceso general para resolver una clase completa de problemas.\n"
   ]
  },
  {
   "cell_type": "markdown",
   "metadata": {
    "id": "BCzstZ3258vE"
   },
   "source": [
    "**programación:** El proceso de romper una tarea en tareas cada vez más pequeñas hasta que puedan ser ejecutadas con una de estas instrucciones simples.\n",
    "\n"
   ]
  },
  {
   "cell_type": "markdown",
   "metadata": {
    "id": "7gaMlmrL58vF"
   },
   "source": [
    "## 📌 Lenguaje Formal vs. Lenguaje Natural\n",
    "\n"
   ]
  },
  {
   "cell_type": "markdown",
   "metadata": {
    "id": "6h6PlkyY58vH"
   },
   "source": [
    "**lenguaje natural:** Cualquier lenguaje hablado que evolucionó de forma natural. Español, inglés, etc...\n"
   ]
  },
  {
   "cell_type": "markdown",
   "metadata": {
    "id": "jrFlWoor58vI"
   },
   "source": [
    "\n",
    "\n",
    "**lenguaje formal:** Cualquier lenguaje diseñado por humanos que tiene un propósito específico, como la representación de ideas matemáticas o programas de computadoras; todos los lenguajes de programación son lenguajes formales.\n",
    "\n",
    "\n",
    "> **semántica**: El significado de un programa.\n",
    "\n",
    "\n",
    "> **sintaxis**: La estructura de un programa.\n",
    "\n",
    "\n",
    "> **unidad**: Uno de los elementos básicos de la estructura sintáctica de un programa, análogo a una palabra en un lenguaje natural.\n",
    "\n",
    "\n",
    "> **análisis sintáctico:** La examinación de un programa y el análisis de su estructura sintáctica."
   ]
  },
  {
   "cell_type": "markdown",
   "metadata": {
    "id": "FhVF-TYk58vJ"
   },
   "source": [
    "## 📌 ¿Por qué Python?\n",
    "\n",
    "**Python**: Lenguaje de alto nivel. Muy usado actualmente (con muchos recursos disponibles). Portable.\n",
    "\n",
    "\n",
    "__Lenguaje de alto nivel:__ Lenguaje diseñado para ser fácil de leer y escribir para la gente. La computadora debe traducirlo a un lenguaje de bajo nivel para entenderlo. Ej: Python, C++, Java.\n",
    "\n",
    "\n",
    "__Lenguaje de bajo nivel:__ Lenguaje diseñado para ser fácil de ejecutar para una computadora; también “lenguaje de máquina” o “lenguaje ensamblador”. Ej: Código binario.\n",
    "\n",
    "__Portabilidad:__ La cualidad de un programa que le permite ser ejecutado en más de un tipo de computadora. Los lenguajes de alto nivel son más portables que los de bajo nivel.\n",
    "\n",
    "Existen dos tipos de programas para traducir lenguajes de alto nivel a lenguajes de bajo nivel: \n",
    "\n",
    "- *Intérpretes*: Programa que traduce y ejecuta progresivamente un lenguaje de alto nivel.\n",
    "- *Compiladores*: Programa que traduce todo un código fuente en un lenguaje de alto nivel a un código ejecutable de bajo nivel que luego se ejecuta mediante un ejecutor.\n",
    "\n",
    "Python es un lenguaje con intérprete."
   ]
  },
  {
   "cell_type": "markdown",
   "metadata": {
    "id": "nL41aWI458vK"
   },
   "source": [
    "### 📌 Algunos conceptos básicos"
   ]
  },
  {
   "cell_type": "markdown",
   "metadata": {
    "id": "xqX1Z5hM58vL"
   },
   "source": [
    "\n",
    "\n",
    "**Variable:** nombre que hace referencia a un valor. A diferencia de los strings, no lleva comillas.\n",
    "\n",
    "\n",
    "**Valor:** un número o cadena (o cualquier otra cosa que se especifique posteriormente) que puede almacenarse en una variable o calcularse en una expresión.\n",
    "_Ej: edad = 17 (Variable: edad. Valor: 17)_\n",
    "\n",
    "**tipo:** Los lenguajes formales dividen los valores en distintas clases. Cada una de estas clases tiene características particulares y los operadores son sensibles a ellas. En Python, los tipos incluyen a los enteros (*integer*), los decimales (*float*), las cadenas (*strings*), los conjuntos (*sets*) y los diccionarios.\n",
    "\n",
    "**Sentencia:** es una porción de código que representa una orden o acción. \n",
    "\n",
    "- Asignación: Sentencia que asigna un valor a una variable.\n",
    " - _Ejemplo:_ edad = 17\n",
    "\n"
   ]
  },
  {
   "cell_type": "markdown",
   "metadata": {
    "id": "EPaPA4LJ58vM"
   },
   "source": [
    "**operador:** un símbolo especial que representa un cálculo sencillo, como la suma (1+1), la multiplicación (1*1) o la concatenación de cadenas (“Hola, ”+nombre).\n",
    "\n",
    "**expresión:** una combinación de variables, operadores y valores. Dicha combinación representa un único valor como resultado. "
   ]
  },
  {
   "cell_type": "markdown",
   "metadata": {},
   "source": [
    "### 📌 Variables y Asignación"
   ]
  },
  {
   "cell_type": "code",
   "execution_count": null,
   "metadata": {
    "id": "N1c44J3Z58vN",
    "outputId": "5c4f5b30-9b99-4138-91a6-7bce035b7cba"
   },
   "outputs": [],
   "source": [
    "\n",
    "a = 10  # Cambia estos valores\n",
    "b = 5   # Cambia estos valores"
   ]
  },
  {
   "cell_type": "code",
   "execution_count": null,
   "metadata": {},
   "outputs": [],
   "source": [
    "print(a)"
   ]
  },
  {
   "cell_type": "code",
   "execution_count": null,
   "metadata": {},
   "outputs": [],
   "source": [
    "\n",
    "print(\"Suma:\", a + b)\n",
    "print(\"Resta:\", a - b)\n",
    "print(\"Multiplicación:\", a * b)\n",
    "print(\"División:\", a / b)"
   ]
  },
  {
   "cell_type": "code",
   "execution_count": null,
   "metadata": {
    "id": "XOYrfPDr58vU",
    "outputId": "c2584d13-c85e-4efd-b0bc-4e818a915409"
   },
   "outputs": [],
   "source": [
    "concatenar = \"hola, \" + \"amigos\"\n",
    "print(concatenar)"
   ]
  },
  {
   "cell_type": "code",
   "execution_count": null,
   "metadata": {
    "id": "YjsxhhVT58vb",
    "outputId": "0d42b3b9-1012-4d81-a476-caa684b71215"
   },
   "outputs": [],
   "source": [
    "nombre = \"Fernando\" # Variable nombre: Fernando\n",
    "print(\"Nombre: \",nombre) # Instrucción: imprimir string 'Nombre:' y la variable nombre \n",
    "\n",
    "edad = 27 \n",
    "print(nombre, \" tiene \", edad, \" años.\") "
   ]
  },
  {
   "cell_type": "markdown",
   "metadata": {
    "id": "Wvo8zJnd58vg"
   },
   "source": [
    "\n",
    "#### 📌 Funciones:\n",
    "Son instrucciones que Python reconoce y ejecuta. Las funciones por lo regular\n",
    "tienen como resultado un valor que se puede guardar en una variable. Las funciones pueden **tomar parámetros** o no, y pueden **devolver un resultado** o no.\n",
    "\n"
   ]
  },
  {
   "cell_type": "code",
   "execution_count": null,
   "metadata": {
    "id": "CBIzvMr058vh",
    "outputId": "73d402e6-f6c1-4a7b-bb1f-e7d38271d8d5"
   },
   "outputs": [],
   "source": [
    "#Funcion con un parametro\n",
    "def saludar(name): ## Parámetro: name (interno a la función)\n",
    "    print(\"hola, \", name)\n",
    "\n",
    "saludar(nombre) ## Argumento: la cadena \"Fernando\" almacenada en la variable 'nombre'."
   ]
  },
  {
   "cell_type": "code",
   "execution_count": null,
   "metadata": {
    "id": "IKPVC1BQ58vm",
    "outputId": "6f707479-eab1-4e66-f4b8-452fb8fd35f8"
   },
   "outputs": [],
   "source": [
    "#Funcion con dos parametros\n",
    "def datos(name, age):\n",
    "    print(\"Nombre: \", name)\n",
    "    print(\"Edad: \", age)\n",
    "    \n",
    "datos(nombre, edad)\n",
    "\n"
   ]
  },
  {
   "cell_type": "markdown",
   "metadata": {
    "id": "zsFPAbMc58v3"
   },
   "source": [
    "### 📌 Tipos de datos\n"
   ]
  },
  {
   "cell_type": "markdown",
   "metadata": {
    "id": "8y4j2_8p7HPI"
   },
   "source": [
    "Para verificar el tipo de dato Python ofrece la función nativa type() que devuelve el tipo de dato de aquello que le pasamos como argumento.\n",
    "\n",
    "Hay que tener en cuenta que los distintos tipos de dato tienen distintos 'comportamientos'. Si por alguna razón pedimos que python realice un corportamiento típico de un tipo de dato, pero le pasamos otro tipo de dato obtendremos un error. Veremos esto un poco más adelante"
   ]
  },
  {
   "cell_type": "code",
   "execution_count": null,
   "metadata": {
    "id": "3Lr3FX7B58v4",
    "outputId": "0227392f-ec62-4564-8f9e-2d060ecef887"
   },
   "outputs": [],
   "source": [
    "print(type(nombre))\n",
    "print(type(edad))"
   ]
  },
  {
   "cell_type": "markdown",
   "metadata": {
    "id": "4iEma8UH58v_"
   },
   "source": [
    "| tipo | descripción | ejemplo |\n",
    "| :---------: | :-----: | :------: |\n",
    "| int | Entero | 3 |\n",
    "| float | flotante  | 3.0 |\n",
    "| str  | string | \"3\" |\n",
    "| bool  | booleano | True o False |"
   ]
  },
  {
   "cell_type": "markdown",
   "metadata": {
    "id": "0aRh2iQQ58wA"
   },
   "source": [
    "**📍 Conversiones de tipos de datos**"
   ]
  },
  {
   "cell_type": "markdown",
   "metadata": {
    "id": "Bp9jTiAv58wB"
   },
   "source": [
    "| descripción | función | devuelve |\n",
    "| :---------: | :-----: | :------: |\n",
    "| Convierte en entero | int(20.9) | 30 |\n",
    "| Convierte en string | str(402)  | “402” |\n",
    "| Convierte en float  | float(40) | 40.0 |\n",
    "| Convierte en lista | list(40) | [40] "
   ]
  },
  {
   "cell_type": "markdown",
   "metadata": {
    "id": "QVEzYGFq58wB"
   },
   "source": [
    "### 📌 String\n",
    "\n",
    "Las strings en python son un tipo inmutable que permite almacenar secuencias de caracteres y se indican entre comillas (simples o dobles), por lo tanto \"Hola\" y 'Hola' son equivalentes. Esto no es así en todos los lenguajes. \n",
    "\n",
    "Las cadenas no están limitadas en tamaño, por lo que el único límite es la memoria de tu ordenador. Una cadena puede estar también vacía.\n",
    "\n",
    "Como cualquier tipo de dato, los strings tienen métodos que les son propios\n"
   ]
  },
  {
   "cell_type": "code",
   "execution_count": null,
   "metadata": {
    "id": "nN3naEH958wC",
    "outputId": "f1c960c3-e460-43a0-8f84-fd63a3161111"
   },
   "outputs": [],
   "source": [
    "nombre.upper() #Convertir a mayúsculas"
   ]
  },
  {
   "cell_type": "code",
   "execution_count": null,
   "metadata": {
    "id": "wIMbuj3m58wK",
    "outputId": "58362b54-176a-44c8-b2c2-9227c0516951"
   },
   "outputs": [],
   "source": [
    "nombre.lower() #A minúsculas"
   ]
  },
  {
   "cell_type": "code",
   "execution_count": null,
   "metadata": {
    "id": "gl1OXoVg58wQ",
    "outputId": "02295e03-b5e0-41b6-d953-0f9bd6d43268"
   },
   "outputs": [],
   "source": [
    "len(nombre) #Largo, pueden probar con otros datos cambiando el valor o directamente la variable \n"
   ]
  },
  {
   "cell_type": "code",
   "execution_count": null,
   "metadata": {
    "id": "-XeJLGbS58wU",
    "outputId": "c31b85df-53dc-477d-af2b-ed757e538325"
   },
   "outputs": [],
   "source": [
    "list(nombre)"
   ]
  },
  {
   "cell_type": "code",
   "execution_count": null,
   "metadata": {
    "id": "oR1rsiOQ58wY",
    "outputId": "95f009ca-cde0-4779-dba2-c778b6560fa6"
   },
   "outputs": [],
   "source": [
    "int(nombre) # Qué pasa si quiero convertir a entero un string? "
   ]
  },
  {
   "cell_type": "code",
   "execution_count": null,
   "metadata": {},
   "outputs": [],
   "source": [
    "x = 5\n",
    "s = \"El número es: \" + str(x)\n",
    "print(s) #El número es: 5"
   ]
  },
  {
   "cell_type": "markdown",
   "metadata": {
    "id": "Ct47w-p658we"
   },
   "source": [
    "### Listas\n",
    "\n",
    "Las listas en Python son una estructura o tipo de dato que permite almacenar otros datos de cualquier tipo. Son mutables y dinámicas, lo cual es la principal diferencia con los sets y las tuplas.\n",
    "\n",
    "\n",
    "📍 Algunas propiedades de las listas:\n",
    "\n",
    "- Son ordenadas, mantienen el orden en el que han sido definidas\n",
    "- Pueden ser formadas por tipos arbitrarios\n",
    "- Pueden ser indexadas con [i].\n",
    "- Se pueden anidar, es decir, meter una dentro de la otra.\n",
    "- Son mutables, ya que sus elementos pueden ser modificados.\n",
    "- Son dinámicas, ya que se pueden añadir o eliminar elementos."
   ]
  },
  {
   "cell_type": "code",
   "execution_count": null,
   "metadata": {
    "id": "MSsRspey58wf"
   },
   "outputs": [],
   "source": [
    "nombre_completo = \"Juan Gimenez\"\n",
    "nombre_apellido = nombre_completo.split(' ')"
   ]
  },
  {
   "cell_type": "code",
   "execution_count": null,
   "metadata": {
    "id": "v8EYmqOW58wk",
    "outputId": "6406fcbd-59df-41a6-d018-aaa03e6ad4a9"
   },
   "outputs": [],
   "source": [
    "print(nombre_completo)\n",
    "print(nombre_apellido)"
   ]
  },
  {
   "cell_type": "markdown",
   "metadata": {
    "id": "BFBrIsbS58wq"
   },
   "source": [
    "\n",
    "**.split** como vemos, es un método que separa los strings. Y el método inverso es **.join**, para unir muchas cadenas intercalandolas con otra"
   ]
  },
  {
   "cell_type": "code",
   "execution_count": null,
   "metadata": {
    "id": "IhD6Reyg58wr",
    "outputId": "82376a15-ddfa-4358-f4de-648ee145ddd1"
   },
   "outputs": [],
   "source": [
    "\" \".join(nombre_apellido)"
   ]
  },
  {
   "cell_type": "code",
   "execution_count": null,
   "metadata": {
    "id": "I_ZMCqKu58wy",
    "outputId": "62a5f165-0cc9-42b8-fd47-d2cfdcc54a87"
   },
   "outputs": [],
   "source": [
    "nombre_apellido.pop() "
   ]
  },
  {
   "cell_type": "markdown",
   "metadata": {
    "id": "-Mf9YGun58w_"
   },
   "source": [
    "### Índices"
   ]
  },
  {
   "cell_type": "markdown",
   "metadata": {
    "id": "oshS7OcS58xA"
   },
   "source": [
    "Las cadenas y las listas son secuencias de elementos. O sea, conjuntos ordenados que se pueden indizar, recortar, reordenar, etc.\n",
    "Es decir que podemos acceder a los elementos que componen una lista usando corchetes y un indice. Dicho indice va desde 0 a n-1, siendo n el tamaño de la lista. \n"
   ]
  },
  {
   "cell_type": "code",
   "execution_count": null,
   "metadata": {
    "id": "RpNwwzu058w2",
    "outputId": "8deb7e91-7162-4f3d-c2b6-1d6b9a8f335d"
   },
   "outputs": [],
   "source": [
    "lista_de_nombres = [\"Gerardo\", \"Esteban\", \"Florencia\", \"Vanesa\", \"Adrian\"]\n",
    "type(lista_de_nombres)"
   ]
  },
  {
   "cell_type": "code",
   "execution_count": null,
   "metadata": {
    "id": "-Q4B3DXF58w6",
    "outputId": "ee422369-046d-42a5-8552-089a3f71fb52"
   },
   "outputs": [],
   "source": [
    "len(lista_de_nombres)"
   ]
  },
  {
   "cell_type": "code",
   "execution_count": null,
   "metadata": {
    "id": "v16P24iK58xB",
    "outputId": "c8b338d7-e8c3-4c95-cec6-83912b9ca6e0"
   },
   "outputs": [],
   "source": [
    "print(lista_de_nombres[1]) #Qué pasará?\n",
    "print(lista_de_nombres[:2]) #Qué pasará?\n",
    "print(lista_de_nombres[2:]) #Qué pasará?\n",
    "print(lista_de_nombres[0]) #Qué pasará?\n",
    "print(lista_de_nombres[-1:]) #Qué pasará?"
   ]
  },
  {
   "cell_type": "code",
   "execution_count": null,
   "metadata": {},
   "outputs": [],
   "source": []
  }
 ],
 "metadata": {
  "colab": {
   "collapsed_sections": [
    "WIfBUHkM58vC",
    "7gaMlmrL58vF",
    "FhVF-TYk58vJ",
    "nL41aWI458vK",
    "Wvo8zJnd58vg",
    "zsFPAbMc58v3",
    "QVEzYGFq58wB",
    "Ct47w-p658we",
    "-Mf9YGun58w_",
    "iHfEnxd058xW",
    "i1w9DuzU58xa",
    "Zf2h1dLv58xh",
    "QYXMRnF458xx"
   ],
   "include_colab_link": true,
   "name": "Clase 1 - Introducción a Python.ipynb",
   "provenance": [],
   "toc_visible": true
  },
  "kernelspec": {
   "display_name": "Python 3 (ipykernel)",
   "language": "python",
   "name": "python3"
  },
  "language_info": {
   "codemirror_mode": {
    "name": "ipython",
    "version": 3
   },
   "file_extension": ".py",
   "mimetype": "text/x-python",
   "name": "python",
   "nbconvert_exporter": "python",
   "pygments_lexer": "ipython3",
   "version": "3.8.10"
  }
 },
 "nbformat": 4,
 "nbformat_minor": 1
}
